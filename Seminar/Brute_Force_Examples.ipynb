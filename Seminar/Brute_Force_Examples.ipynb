{
  "nbformat": 4,
  "nbformat_minor": 0,
  "metadata": {
    "colab": {
      "name": "Brute_Force_Examples.ipynb",
      "provenance": [],
      "toc_visible": true
    },
    "kernelspec": {
      "name": "python3",
      "display_name": "Python 3"
    },
    "language_info": {
      "name": "python"
    }
  },
  "cells": [
    {
      "cell_type": "markdown",
      "metadata": {
        "id": "Y-DoxzA19rXy"
      },
      "source": [
        "# Brute Force Examples"
      ]
    },
    {
      "cell_type": "markdown",
      "metadata": {
        "id": "FKrO4nHA9w2v"
      },
      "source": [
        "## Problem 1: Exponentiation"
      ]
    },
    {
      "cell_type": "markdown",
      "metadata": {
        "id": "uHE0h5-C9b26"
      },
      "source": [
        "### **Problem:**\n",
        "\n",
        "Cho 2 số nguyên không âm $a, b$ với $a\\neq 0, 10^5 \\leq  b \\leq 10^{18}$. \n",
        "\n",
        "Tính $a^b$ mod $(10^9+7)$."
      ]
    },
    {
      "cell_type": "markdown",
      "metadata": {
        "id": "Zp19KqlR-QAX"
      },
      "source": [
        "**Solution:**\n",
        "\n",
        "$\\begin{align}\n",
        "\ta^b \n",
        "\t&= \\underbrace{a * a * \\ldots * a}_{b\\text{-times}}\n",
        "\\end{align}$"
      ]
    },
    {
      "cell_type": "code",
      "metadata": {
        "colab": {
          "base_uri": "https://localhost:8080/"
        },
        "id": "ym3fK6kn7cWX",
        "outputId": "69cbb49c-adb9-4a53-dcba-7e27b467f9b9"
      },
      "source": [
        "MOD = 10**9 + 7\n",
        "\n",
        "def exp_bf(a, b):\n",
        "  ''' Calculate exponential using brute force strategy '''\n",
        "  result = 1\n",
        "  for i in range(b):\n",
        "    result *= a\n",
        "    result %= MOD\n",
        "  return result\n",
        "\n",
        "print(exp_bf(6, 24))"
      ],
      "execution_count": null,
      "outputs": [
        {
          "output_type": "stream",
          "text": [
            "152947761\n"
          ],
          "name": "stdout"
        }
      ]
    },
    {
      "cell_type": "markdown",
      "metadata": {
        "id": "WLRAb3r798kn"
      },
      "source": [
        "### **Compare with divide and conquer:**"
      ]
    },
    {
      "cell_type": "code",
      "metadata": {
        "id": "uLCZp39H-Jma"
      },
      "source": [
        "# This code is got from group 1\n",
        "def pow(a, b):\n",
        "    if b == 0:\n",
        "        return 1\n",
        "    else:\n",
        "        power = pow(a, b//2)\n",
        "        if b % 2 == 0:\n",
        "          power = power * power\n",
        "        else:\n",
        "          power = power * power * a\n",
        "    return power % MOD"
      ],
      "execution_count": null,
      "outputs": []
    },
    {
      "cell_type": "code",
      "metadata": {
        "colab": {
          "base_uri": "https://localhost:8080/"
        },
        "id": "uNOBovJ2_LCB",
        "outputId": "4a0b4efb-8d44-49ae-e3f7-1256a050db12"
      },
      "source": [
        "import time\n",
        "import random\n",
        "\n",
        "def compare(a, b):\n",
        "  start = time.time()\n",
        "  res_bf = exp_bf(a, b)\n",
        "  end = time.time()\n",
        "  time_bf = end - start\n",
        "\n",
        "  start = time.time()\n",
        "  res_dc = pow(a, b)\n",
        "  end = time.time()\n",
        "  time_dc = end - start\n",
        "\n",
        "  print(\"Brute force: \\t\\t\", res_bf, \"\\t - Time: %.16f\" % time_bf)\n",
        "  print(\"Divide and Conquer: \\t\", res_dc, \"\\t - Time: %.16f\" % time_dc)\n",
        "\n",
        "print(\"Large number:\")\n",
        "a = random.randint(300, 500)\n",
        "b = random.randint(10**5, 10**7)\n",
        "compare(a, b)\n",
        "\n",
        "print(\"\\nSmall number:\")  \n",
        "a = random.randint(50, 100)\n",
        "b = random.randint(0, 10**2)\n",
        "compare(a, b)"
      ],
      "execution_count": null,
      "outputs": [
        {
          "output_type": "stream",
          "text": [
            "Large number:\n",
            "Brute force: \t\t 34270795 \t - Time: 1.2065207958221436\n",
            "Divide and Conquer: \t 34270795 \t - Time: 0.0003719329833984\n",
            "\n",
            "Small number:\n",
            "Brute force: \t\t 253181331 \t - Time: 0.0000159740447998\n",
            "Divide and Conquer: \t 253181331 \t - Time: 0.0000059604644775\n"
          ],
          "name": "stdout"
        }
      ]
    },
    {
      "cell_type": "markdown",
      "metadata": {
        "id": "k5jeS6Ipv70G"
      },
      "source": [
        "## Problem 2: Closest-Pair Problem"
      ]
    },
    {
      "cell_type": "markdown",
      "metadata": {
        "id": "5W7Ka97W1sxE"
      },
      "source": [
        "* **Input:** Một mảng các điểm trong mặt phẳng.\n",
        "* **Output:** Khoảng cách nhỏ nhất giữa 2 điểm trong mảng đã cho và 2 điểm đó"
      ]
    },
    {
      "cell_type": "code",
      "metadata": {
        "colab": {
          "base_uri": "https://localhost:8080/"
        },
        "id": "BikeF8Qiwycs",
        "outputId": "cdbfa8d5-ef94-4588-d626-cf740ba95ebb"
      },
      "source": [
        "import math\n",
        "\n",
        "class Point():\n",
        "  def __init__(self, x, y):\n",
        "    self.x = x\n",
        "    self.y = y\n",
        "  \n",
        "  def __str__(self):\n",
        "    return '(' + f'{self.x}' + ', ' + f'{self.y}' + ')'\n",
        "  \n",
        "def dist(p1, p2):\n",
        "    return (p1.x - p2.x)**2 + (p1.y - p2.y)**2\n",
        "  \n",
        "def bf_closest_pair(P):\n",
        "  size = len(P)\n",
        "  min = float('inf')\n",
        "  for i in range(size):\n",
        "    for j in range(i+1, size):\n",
        "      dis = dist(P[i], P[j])\n",
        "      if min > dis:\n",
        "        min = dis\n",
        "        pair = [P[i], P[j]]\n",
        "  return math.sqrt(min), pair[0], pair[1]\n",
        "\n",
        "P = [Point(2, 3), Point(12, 30),\n",
        "     Point(40, 50), Point(5, 1), \n",
        "     Point(12, 10), Point(3, 4)]\n",
        "print(*bf_closest_pair(P))"
      ],
      "execution_count": null,
      "outputs": [
        {
          "output_type": "stream",
          "text": [
            "1.4142135623730951 (2, 3) (3, 4)\n"
          ],
          "name": "stdout"
        }
      ]
    },
    {
      "cell_type": "markdown",
      "metadata": {
        "id": "How7eL7iELKk"
      },
      "source": [
        "## Problem 3: Linear Search"
      ]
    },
    {
      "cell_type": "code",
      "metadata": {
        "id": "YwD2roEJEhVZ"
      },
      "source": [
        "def linearSearch(a,n):\n",
        "  for i in range (len(a)):\n",
        "    if(a[i]==n):\n",
        "      return i+1\n",
        "a=[10,14,19,27,31,33,35,42,44]\n",
        "result=linearSearch(a,33)\n",
        "print(\"Vi tri cua so 33 trong mang la: \",result)"
      ],
      "execution_count": null,
      "outputs": []
    },
    {
      "cell_type": "markdown",
      "metadata": {
        "id": "7IuGYkl8EOcb"
      },
      "source": [
        "## Problem 4: String Matching"
      ]
    },
    {
      "cell_type": "code",
      "metadata": {
        "id": "C11V5KpWEiKH"
      },
      "source": [
        "def string_match(string, sub_str): \n",
        " #  Duyệt qua các trường hợp \n",
        " for i in range(len(string)-len(sub_str)+1): \n",
        "  count = 0   \n",
        "  for j in range(len(sub_str)): \n",
        "  # Xét điều kiện\n",
        "   if string[i+j] == sub_str[j]: \n",
        "    count += 1 \n",
        "   else: \n",
        "    break \n",
        "  if count == len(sub_str): \n",
        "    return i \n",
        " return -1\n",
        "print(string_match(\"adbcbdc\", \"dc\")) "
      ],
      "execution_count": null,
      "outputs": []
    },
    {
      "cell_type": "markdown",
      "metadata": {
        "id": "Ag6QtifgESCS"
      },
      "source": [
        "## Problem 5: Sort using Brute Force"
      ]
    },
    {
      "cell_type": "markdown",
      "metadata": {
        "id": "om2NEO-a59Xm"
      },
      "source": [
        "### Selection Sort"
      ]
    },
    {
      "cell_type": "code",
      "metadata": {
        "id": "K8P2V8ckEjC3",
        "colab": {
          "base_uri": "https://localhost:8080/"
        },
        "outputId": "796b6b25-b8ff-46ba-8e54-2184fa91ecd8"
      },
      "source": [
        "def selectionSort(a):\n",
        "  # Duyệt qua các trường hợp\n",
        "  for i in range(len(a)-1):\n",
        "    min_idx=i\n",
        "    for j in range(i+1,len(a),1):\n",
        "      # Xét điều kiện\n",
        "      if a[min_idx]>a[j]:\n",
        "        min_idx=j\n",
        "    a[i], a[min_idx] = a[min_idx], a[i]\n",
        "arr = [15 ,19, 27, 33, 46, 50, 5, 9, 37]\n",
        "selectionSort(arr)\n",
        "print(arr)"
      ],
      "execution_count": null,
      "outputs": [
        {
          "output_type": "stream",
          "text": [
            "[5, 9, 15, 19, 27, 33, 37, 46, 50]\n"
          ],
          "name": "stdout"
        }
      ]
    },
    {
      "cell_type": "markdown",
      "metadata": {
        "id": "2z8arMn26aCf"
      },
      "source": [
        "### Bubble Sort"
      ]
    },
    {
      "cell_type": "code",
      "metadata": {
        "id": "5QmBpuIYEjvf",
        "colab": {
          "base_uri": "https://localhost:8080/"
        },
        "outputId": "bbd50028-7953-4796-d4e4-e9b76bd91a5c"
      },
      "source": [
        "def bubbleSort(arr):\n",
        "  n = len(arr)\n",
        "  # Duyệt qua các trường hợp\n",
        "  for i in range(n-1):\n",
        "    for j in range(0, n-i-1):\n",
        "      # Xét điều kiện\n",
        "      if arr[j] > arr[j+1] :\n",
        "        arr[j], arr[j+1] = arr[j+1], arr[j]\n",
        "arr = [15 ,19, 27, 33, 46, 50, 5, 9, 37]\n",
        "bubbleSort(arr)\n",
        "print(arr)"
      ],
      "execution_count": null,
      "outputs": [
        {
          "output_type": "stream",
          "text": [
            "[5, 9, 15, 19, 27, 33, 37, 46, 50]\n"
          ],
          "name": "stdout"
        }
      ]
    },
    {
      "cell_type": "markdown",
      "metadata": {
        "id": "tXbNWbug6Awh"
      },
      "source": [
        "### Compare with divide and conquer"
      ]
    },
    {
      "cell_type": "code",
      "metadata": {
        "id": "DXKyN2ucDxtS"
      },
      "source": [
        "def mergeSort(arr):\n",
        "    if len(arr) > 1:\n",
        "        mid = len(arr)//2\n",
        "        L = arr[:mid]\n",
        "        R = arr[mid:]\n",
        "        mergeSort(L)\n",
        "        mergeSort(R)\n",
        " \n",
        "        i = j = k = 0\n",
        " \n",
        "        while i < len(L) and j < len(R):\n",
        "            if L[i] < R[j]:\n",
        "                arr[k] = L[i]\n",
        "                i += 1\n",
        "            else:\n",
        "                arr[k] = R[j]\n",
        "                j += 1\n",
        "            k += 1\n",
        " \n",
        "        while i < len(L):\n",
        "            arr[k] = L[i]\n",
        "            i += 1\n",
        "            k += 1\n",
        " \n",
        "        while j < len(R):\n",
        "            arr[k] = R[j]\n",
        "            j += 1\n",
        "            k += 1"
      ],
      "execution_count": null,
      "outputs": []
    },
    {
      "cell_type": "code",
      "metadata": {
        "colab": {
          "base_uri": "https://localhost:8080/"
        },
        "id": "AclPVGPt1BQC",
        "outputId": "004560c0-6036-49de-b040-be8a8097a82d"
      },
      "source": [
        "import time\n",
        "from numpy import random\n",
        "def compare(a):\n",
        "  x_1 = a\n",
        "  x_2 = a\n",
        "  x_3 = a\n",
        "\n",
        "  start = time.time()\n",
        "  selectionSort(x_1)\n",
        "  end = time.time()\n",
        "  time_select = end - start\n",
        "\n",
        "  start = time.time()\n",
        "  bubbleSort(x_2)\n",
        "  end = time.time()\n",
        "  time_bubble = end - start\n",
        "\n",
        "  start = time.time()\n",
        "  mergeSort(x_3)\n",
        "  end = time.time()\n",
        "  time_merge = end - start\n",
        "\n",
        "  print(\"Selection Sort: \\t\", \" - Time: %.16f\" % time_select)\n",
        "  print(\"Bubble Sort   : \\t\", \" - Time: %.16f\" % time_bubble)\n",
        "  print(\"Merge Sort    : \\t\", \" - Time: %.16f\" % time_merge)\n",
        "\n",
        "\n",
        "print(\"Large number:\")\n",
        "a = random.randint(10**5,size=10**4)\n",
        "compare(a)\n",
        "\n",
        "print(\"\\nSmall number:\")  \n",
        "a = random.randint(10**5, size=10**2)\n",
        "compare(a)"
      ],
      "execution_count": null,
      "outputs": [
        {
          "output_type": "stream",
          "text": [
            "Large number:\n",
            "Selection Sort: \t  - Time: 16.8257241249084473\n",
            "Bubble Sort   : \t  - Time: 18.2580053806304932\n",
            "Merge Sort    : \t  - Time: 0.0935196876525879\n",
            "\n",
            "Small number:\n",
            "Selection Sort: \t  - Time: 0.0022044181823730\n",
            "Bubble Sort   : \t  - Time: 0.0019116401672363\n",
            "Merge Sort    : \t  - Time: 0.0005483627319336\n"
          ],
          "name": "stdout"
        }
      ]
    },
    {
      "cell_type": "markdown",
      "metadata": {
        "id": "ZT5TKTkyg_Vs"
      },
      "source": [
        "## Problem 6: 0/1 Knapsack Problem"
      ]
    },
    {
      "cell_type": "markdown",
      "metadata": {
        "id": "DOkCouMOLH5P"
      },
      "source": [
        "### Knapsack 0/1 using Brute Force"
      ]
    },
    {
      "cell_type": "code",
      "metadata": {
        "id": "cVj5GIuaIJfi",
        "colab": {
          "base_uri": "https://localhost:8080/"
        },
        "outputId": "eca3f6cb-23ad-45a3-86ad-febe14fced9a"
      },
      "source": [
        "class subset():\n",
        "    def __init__(self, lst):\n",
        "        self.list = lst\n",
        "    def weight(self):\n",
        "        sum = 0\n",
        "        for i in self.list:\n",
        "            sum += w[i]\n",
        "        return sum   \n",
        "    def value(self):\n",
        "        sum = 0\n",
        "        for i in self.list:\n",
        "            sum += v[i]\n",
        "        return sum\n",
        "\n",
        "max_value = 0\n",
        "n = len(w)\n",
        "total_cases = 1 << n\n",
        "for i in range(total_cases):\n",
        "  lst = []\n",
        "  for j in range(n):\n",
        "    if i & (1 << j):\n",
        "      lst.append(j)\n",
        "  a = subset(lst)\n",
        "  val_sub = a.value()\n",
        "  if (a.weight() <= W and val_sub > max_value):\n",
        "      max_value = val_sub\n",
        "\n",
        "w = [10,20,30,40]\n",
        "v = [60,100,120,50]\n",
        "W = 40\n",
        "print(\"Giá trị lớn nhất túi có thể lấy: \",max_value)"
      ],
      "execution_count": null,
      "outputs": [
        {
          "output_type": "stream",
          "text": [
            "Giá trị lớn nhất túi có thể lấy:  180\n"
          ],
          "name": "stdout"
        }
      ]
    },
    {
      "cell_type": "markdown",
      "metadata": {
        "id": "R-WbQ2pCLOfv"
      },
      "source": [
        "### Compare with Greedy"
      ]
    },
    {
      "cell_type": "code",
      "metadata": {
        "colab": {
          "base_uri": "https://localhost:8080/"
        },
        "id": "BdFu8ZutiXWP",
        "outputId": "767c3225-6c2c-4cd8-c02a-ecdaf23f3419"
      },
      "source": [
        "class ItemValue:\n",
        "    def __init__(self, wt, val, ind):\n",
        "        self.wt = wt\n",
        "        self.val = val\n",
        "        self.ind = ind\n",
        "        self.ratio = val // wt\n",
        " \n",
        "    def __lt__(self, other):\n",
        "        return self.ratio < other.ratio\n",
        "\n",
        "class KnapSack_01:\n",
        "    def getMaxValue(wt, val, capacity):\n",
        "        iVal = []\n",
        "        #B1 : Tính tỉ lệ ratio = val/wt\n",
        "        for i in range(len(wt)):\n",
        "            iVal.append(ItemValue(wt[i], val[i], i))\n",
        "        # B2 : sắp xếp theo giá trị ratio\n",
        "        iVal.sort(reverse=True)\n",
        " \n",
        "        totalValue = 0\n",
        "        for i in iVal:\n",
        "            curWt = int(i.wt)\n",
        "            curVal = int(i.val)\n",
        "            # B3 : lấy nguyên các món đồ có tỉ lệ lớn\n",
        "            if capacity - curWt >= 0:\n",
        "                capacity -= curWt\n",
        "                totalValue += curVal\n",
        "        return totalValue\n",
        "# main\n",
        "if __name__ == \"__main__\":\n",
        "    wt = [10,20,30,40]\n",
        "    val = [60,100,120,50]\n",
        "    capacity = 40\n",
        " \n",
        "    maxValue = KnapSack_01.getMaxValue(wt, val, capacity)\n",
        "    print(\"Giá trị lớn nhất túi có thể lấy: \", maxValue)"
      ],
      "execution_count": null,
      "outputs": [
        {
          "output_type": "stream",
          "text": [
            "Giá trị lớn nhất túi có thể lấy:  160\n"
          ],
          "name": "stdout"
        }
      ]
    },
    {
      "cell_type": "markdown",
      "metadata": {
        "id": "BN1o-vRxRGvb"
      },
      "source": [
        "## Applications"
      ]
    },
    {
      "cell_type": "markdown",
      "metadata": {
        "id": "3F26IjGGRJ4T"
      },
      "source": [
        "### 1. Testcase Generator"
      ]
    },
    {
      "cell_type": "markdown",
      "metadata": {
        "id": "DwJ8bRjHVtbq"
      },
      "source": [
        "* Pseudo Code:\n",
        "\n",
        "```\n",
        "FUNCTION findMaxSub(a, n):\n",
        "    maxSum = -INF\n",
        "    p = q = 0\n",
        "    FOR i = 0 TO n DO\n",
        "      FOR j = i TO n DO\n",
        "        sum = 0\n",
        "        FOR k = i TO j DO\n",
        "          sum += a[k]\n",
        "        IF sum > maxSum THEN\n",
        "          maxSum = sum\n",
        "          p = i\n",
        "          q = j\n",
        "    RETURN (p + 1, q + 1, maxSum)\n",
        "```\n",
        "\n",
        "* Độ phức tạp thuật toán: $O(n^3)$"
      ]
    },
    {
      "cell_type": "code",
      "metadata": {
        "colab": {
          "base_uri": "https://localhost:8080/"
        },
        "id": "EwkqWpl6RPv1",
        "outputId": "70708de9-a114-42f4-9153-81137ea69bb7"
      },
      "source": [
        "# Code này được lấy từ nhóm 5\n",
        "import random\n",
        "import os\n",
        "from sys import maxsize\n",
        " \n",
        "maxN = [10, 100, 500, 1000, 10**6] #giá trị maxN để ta random từ [0,maxN]\n",
        "maxValue = [10, 100, 500, 1000, 10**9]  #giá trị maxValue để ta random từ [0,maxValue] cho từng thành phần mảng\n",
        "numTest = 10 #số test ta muốn random\n",
        "name = \"/content/sample_data/\" #dường dẫn file\n",
        " \n",
        "def solution(a,arr):\n",
        "    min, test, result, left, pos_i, pos_j = 0,0,0,-1,-1,-1\n",
        "    # min : nắm giá trị đoạn tiền tố min\n",
        "    # test : giá trị tiền tố đang xét\n",
        "    # result : đáp án đoạn max\n",
        "    # left : giữ giá trị vị trí đoạn tiền tố min\n",
        "    # pos_i/j : vị trí i j cần trả về\n",
        "    presum = [] #khởi tạo mảng Tổng tiền tố\n",
        "    temp = 0 #biến tạm\n",
        "    for i in range(0,a):\n",
        "        '''tính giá trị tiền tố của mảng'''\n",
        "        temp += arr[i]\n",
        "        presum.append(temp) \n",
        "\n",
        "    for i in range(0,a):\n",
        "        '''ứng với từng giá trị tiền tố j, xét giá trị tiền tố i (min) sao cho (test - min) lớn nhất '''\n",
        "        test = presum[i]\n",
        "        if (test < min):\n",
        "           min = test\n",
        "           left = i\n",
        "        if (test - min > result):\n",
        "           result = test - min\n",
        "           pos_i = left\n",
        "           pos_j = i\n",
        "    return [pos_i+2, pos_j+1, result]\n",
        "\n",
        "def solution_bf(n, arr):\n",
        "    maxSum = -maxsize - 1\n",
        "    p = q = 0\n",
        "    for i in range(n):\n",
        "      for j in range(i, n):\n",
        "        sum = 0\n",
        "        for k in range(i, j + 1):\n",
        "          sum += arr[k]\n",
        "        if sum > maxSum:\n",
        "          maxSum = sum\n",
        "          p = i\n",
        "          q = j\n",
        "    return [p + 1, q + 1, maxSum]\n",
        " \n",
        "def genArray(n, index):\n",
        "    ''' khởi tạo mảng random ''' \n",
        "    arr = []\n",
        "    for i in range(n):\n",
        "        arr.append(random.randrange(0-maxValue[index],maxValue[index]))\n",
        "    return arr\n",
        " \n",
        "def printTest(index, array, ways = 0):\n",
        "    '''ghi file .out .in tương ứng input output của bộ test case'''\n",
        "    filepath = os.path.join(name, str(index))\n",
        " \n",
        "    with open(filepath + \".in\", \"w\") as f:\n",
        "        f.write(\"{}\\n\".format(len(array)))\n",
        "        for x in array:\n",
        "            f.write(\"{} \".format(x))\n",
        " \n",
        "    with open(filepath + \".out\", \"w\") as f:\n",
        "        if ways == 1:\n",
        "            resArr = solution_bf(n, array)\n",
        "        else:\n",
        "            resArr = solution(n, array)\n",
        "        print(resArr)\n",
        "        for result in resArr:\n",
        "            f.write(\"{} \".format(result))\n",
        " \n",
        "for index in range(numTest):\n",
        "    limit = (index) // 4\n",
        "    n = random.randrange(1,maxN[limit])\n",
        "    generatedArr = genArray(n, limit)\n",
        "    printTest(index + 1, generatedArr)\n",
        "    printTest(index + 1, generatedArr, 1)\n",
        "    print()"
      ],
      "execution_count": null,
      "outputs": [
        {
          "output_type": "stream",
          "text": [
            "[3, 3, 8]\n",
            "[3, 3, 8]\n",
            "\n",
            "[3, 3, 6]\n",
            "[3, 3, 6]\n",
            "\n",
            "[1, 4, 16]\n",
            "[1, 4, 16]\n",
            "\n",
            "[6, 6, 9]\n",
            "[6, 6, 9]\n",
            "\n",
            "[5, 10, 183]\n",
            "[5, 10, 183]\n",
            "\n",
            "[1, 1, 53]\n",
            "[1, 1, 53]\n",
            "\n",
            "[8, 10, 149]\n",
            "[8, 10, 149]\n",
            "\n",
            "[17, 40, 472]\n",
            "[17, 40, 472]\n",
            "\n",
            "[10, 16, 1850]\n",
            "[10, 16, 1850]\n",
            "\n",
            "[69, 126, 3511]\n",
            "[69, 126, 3511]\n",
            "\n"
          ],
          "name": "stdout"
        }
      ]
    }
  ]
}