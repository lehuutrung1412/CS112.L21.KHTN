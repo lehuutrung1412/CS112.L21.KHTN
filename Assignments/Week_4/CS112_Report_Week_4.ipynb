{
  "nbformat": 4,
  "nbformat_minor": 0,
  "metadata": {
    "colab": {
      "name": "CS112_Report_Week_4.ipynb",
      "provenance": [],
      "toc_visible": true,
      "include_colab_link": true
    },
    "kernelspec": {
      "name": "python3",
      "display_name": "Python 3"
    },
    "language_info": {
      "name": "python"
    }
  },
  "cells": [
    {
      "cell_type": "markdown",
      "metadata": {
        "id": "view-in-github",
        "colab_type": "text"
      },
      "source": [
        "<a href=\"https://colab.research.google.com/github/lehuutrung1412/CS112.L21.KHTN/blob/main/Assignments/Week_4/CS112_Report_Week_4.ipynb\" target=\"_parent\"><img src=\"https://colab.research.google.com/assets/colab-badge.svg\" alt=\"Open In Colab\"/></a>"
      ]
    },
    {
      "cell_type": "markdown",
      "metadata": {
        "id": "LOn6d44kArht"
      },
      "source": [
        "# Báo cáo tuần 4\n",
        "Nhóm L21.KHTN.N09:\n",
        "\n",
        "  * 19522424 - Lê Hữu Trung\n",
        "  * 19521300 - Nguyễn Đỗ Mạnh Cường"
      ]
    },
    {
      "cell_type": "markdown",
      "metadata": {
        "id": "CHE1H45CPbUu"
      },
      "source": [
        "## Problem 1: Sửa hàng rào"
      ]
    },
    {
      "cell_type": "markdown",
      "metadata": {
        "id": "khFGviNNMzXx"
      },
      "source": [
        "### 1. Description\n",
        "Sau khi dựng xong nhà kho chứa cỏ, dì Poly quyết định dùng m tấm gỗ còn thừa gia cố hàng rào của vườn rau ngăn không cho gà vào phá và giao công việc này cho Tôm và Hấc Phin làm. Nhiệm vụ của hai cậu bé tội nghiệp là đóng thêm vào các tấm ván hàng rào để có hàng rào mới càng cao càng tốt. Nhìn vẽ mặt buồn thiu và lóng ngóng của 2 đứa Jim quyết định sẽ làm giúp. Hàng rào được ghép từ n tấm gỗ cùng độ rộng như nhau và bằng độ rộng của các tấm gỗ còn thừa, tấm thứ i có độ cao $a_i, i = 1 ÷ n$. Tôm và Hấc Phin chỉ phải xếp các tấm còn thừa lên xe ba gác để Jim kéo đi. Các tấm gỗ được xếp thành một chồng, tính từ trên xuống tấm thứ $j$ có độ dài $b_j, j = 1 ÷ m$. Jim kéo xe ba gác đi dọc theo hàng rào. Đến một tấm nào đó muốn gia cố Jim sẽ lấy một tấm gỗ từ xe đóng tiếp lên tấm gỗ trên hàng rào và độ cao mới của tấm này trên hàng rào sẽ là tổng độ cao của tấm cũ và tấm mới đóng thêm. Jim chỉ đóng thêm một tấm mới vào tấm cũ vì muốn đảm bảo độ chắc chắn của hàng rào. Jim có thể lấy tấm trên cùng ở xe hoặc vất ra khỏi xe một số tấm cho đến khi gặp tấm vừa ý. Người ta vẫn nói “Khôn đâu tới trẻ, khỏe đâu tới già!”  Jim đã đứng tuổi và không còn sức để xếp lại các tấm gỗ bị bỏ ra vào xe. Ngoài ra, Jim cũng khá mê tín nên không quay lại lấy những tấm đã loại.\n",
        "\n",
        "Hãy xác định độ cao lớn nhất có thể đạt được của hàng rào sau khi gia cố. Độ cao của hàng rào được tính bằng độ cao tấm gỗ thấp nhất trên hàng rào.\n",
        "\n",
        "**Dữ liệu:** Vào từ thiết bị nhập chuẩn:\n",
        "\n",
        "* Dòng đầu tiên chứa số nguyên $n (1 ≤ n ≤ 10^5)$,\n",
        "* Dòng thứ 2 chứa $n$ số nguyên $a_1, a_2, . . ., a_n (1 ≤ a_i ≤ 10^8, i = 1 ÷ n)$,\n",
        "* Dòng thứ 3 chứa số nguyên $m  (1 ≤ m ≤ 10^5)$,\n",
        "* Dòng cuối cùng chứ $m$ số nguyên $b_1, b_2, . . ., b_m (1 ≤ b_j ≤ 10^8, j = 1÷ m)$.\n",
        "Kết quả: Đưa ra thiết bị xuất chuẩn, dòng đầu tiên chứa 2 số nguyên $h$ và $k$ – độ cao lớn nhất có thể của hàng rào và số tấm gỗ đã được đóng thêm, mỗi dòng trong $k$ dòng tiếp theo chứa 2 số nguyên $x$ và $y$, trong đó $x$ – tấm gỗ trên hàng rào được đóng cao hơn, $y$ – tấm gỗ được dùng để đóng. Đưa ra phương án có các số hiệu tấm ván được chọn là nhỏ nhất nếu tồn tại nhiều cách đóng khác nhau.\n",
        "\n",
        "\n",
        "* Example: \n",
        "\n",
        "| Input  | Output |\n",
        "| --- | --- |\n",
        "|6|5 3|\n",
        "|2 5 4 1 7 5|1 2|\n",
        "|7|3 3|\n",
        "|2 3 1 3 2 4 6|4 6|"
      ]
    },
    {
      "cell_type": "markdown",
      "metadata": {
        "id": "UeC2K7XpG-_6"
      },
      "source": [
        "### 2. Abstraction\n",
        "\n",
        "Tìm thứ tự kết hợp giữa 2 dãy a và b (theo thứ tự) sao cho phần tử nhỏ nhất trong dãy a khi kết hợp là lớn nhất có thể. \n"
      ]
    },
    {
      "cell_type": "markdown",
      "metadata": {
        "id": "3jXejHJ3LkpU"
      },
      "source": [
        "### 3. Pattern Recognition\n",
        "\n",
        "* Dạng bài toán: Divide and conquer\n",
        "* Đặc điểm nhận dạng:\n",
        "    * Nhận thấy miền giá trị của bài toán (giá trị lớn nhất có thể của giá trị nhỏ nhất của dãy a) là (min(a), min(a) + max(b))\n",
        "    * Ta thấy nếu một giá trị k thuộc miền giá trị thỏa điều kiện bài toán thì những giá trị < k luôn thỏa điều kiện đó, ngược lại những giá trị > k sẽ không thỏa mãn, do đó ta có thể sử dụng tìm kiếm nhị phân thay vì tìm kiếm tuyến tính.\n",
        "\n"
      ]
    },
    {
      "cell_type": "markdown",
      "metadata": {
        "id": "zw6VO7UlQHWd"
      },
      "source": [
        "###  4. Algorithm Design\n",
        "\n",
        "* Quá trình thử:\n",
        "    * Đầu tiên, mình đã nhầm trong việc xác định miền giá trị là min(a) + các giá trị trong b => Wrong\n",
        "    * Tiếp theo, mình xác định đúng miền giá trị nhưng lại tìm kiếm tuyến tính => Time limit exceeded\n",
        "    * Dựa vào đặc điểm nhận dạng như trên, mình chuyển sang tìm kiếm nhị phân và tối ưu nhập, xuất,... => Accepted\n",
        "\n",
        "* Thuật toán:\n",
        "```\n",
        "def fix_fence(fence, wood):\n",
        "    choose_fence = min(fence)\n",
        "    choose_wood = max(wood)\n",
        "    left = choose_fence\n",
        "    right = choose_fence + choose_wood + 1\n",
        "    while (left < right):\n",
        "        new_height = (left + right) >> 1\n",
        "        j = 0\n",
        "        flag = True\n",
        "        for height in fence:\n",
        "            if height < new_height:\n",
        "                flag = False\n",
        "                while (j < m):\n",
        "                    if (height + wood[j] < new_height):\n",
        "                        j += 1\n",
        "                    else:\n",
        "                        j += 1\n",
        "                        flag = True\n",
        "                        break\n",
        "                if flag == False:\n",
        "                    break\n",
        "        if flag == True:\n",
        "            left = new_height + 1\n",
        "        else:\n",
        "            right = new_height\n",
        "    return left-1, choose_fence\n",
        "```\n",
        "```\n",
        "def get_result(fence, wood, new_height, min_fence):\n",
        "    res = []\n",
        "    j = 0\n",
        "    for i, height in enumerate(fence, 1):\n",
        "        if height < new_height or height == min_fence:\n",
        "            while (j < m):\n",
        "                if (height + wood[j] < new_height):\n",
        "                    j += 1\n",
        "                else:\n",
        "                    j += 1\n",
        "                    res.append((i, j))\n",
        "                    break\n",
        "    return res\n",
        "```\n",
        "\n",
        "* Độ phức tạp: $O(m\\log{k})$ với k = max(b)"
      ]
    },
    {
      "cell_type": "markdown",
      "metadata": {
        "id": "VekMPRLxsFol"
      },
      "source": [
        "## Problem 2: Phân số"
      ]
    },
    {
      "cell_type": "markdown",
      "metadata": {
        "id": "bO66hAzFsGZa"
      },
      "source": [
        "### 1. Description\n",
        "Cho 2 phân số đúng và tối giản $\\frac{a}{b}$,$\\frac{c}{d}$   . Mỗi phép biến đổi là tăng $a $ và $b$ lên 1, sau đó giản ước phân số nhận được.\n",
        "\n",
        "Hãy xác định sau bao nhiêu bước biến đổi từ phân số thứ nhất ban đầu nhận được phân số thứ 2 đã cho.\n",
        "\n",
        "**Dữ liệu:** Vào từ thiết bị nhập chuẩn gồm 4 dòng, mỗi dòng chứa 1 số nguyên $a, b, c, d,0 < a < b ≤10^5, 0 < c < d ≤ 10^5$, $a$ và $b$ nguyên tố cùng nhau, $c$ và $d$ nguyên tố cùng nhau $\\frac{a}{b}\\neq \\frac{c}{d}$  \n",
        "\n",
        "Kết quả: Đưa ra thiết bị xuất chuẩn số 0 nếu không có cách biến đổi hoặc một số nguyên – số lượng phép biến đổi.\n",
        "\n",
        "\n",
        "* Example: \n",
        "\n",
        "| Input  | Output |\n",
        "| --- | --- |\n",
        "|1 6 2 3|5 |"
      ]
    },
    {
      "cell_type": "markdown",
      "metadata": {
        "id": "ycOm6SPhsMZx"
      },
      "source": [
        "### 2. Abstraction\n",
        "Cho 4 số nguyên dương a,b,c,d. Tính số vòng lập để ad=bc biết trong mỗi vòng lặp $a=\\frac{a+1}{gcd(a+1,b+1)}, b=\\frac{b+1}{gcd(a+1,b+1)}$\n",
        "\n"
      ]
    },
    {
      "cell_type": "markdown",
      "metadata": {
        "id": "n3z0XIH5sT67"
      },
      "source": [
        "### 3. Pattern Recognition\n",
        "Sử dụng vét cạn\n",
        "\n",
        "\n",
        "\n"
      ]
    },
    {
      "cell_type": "markdown",
      "metadata": {
        "id": "PCsCk98vsVsm"
      },
      "source": [
        "###  4. Algorithm Design\n",
        "\n"
      ]
    },
    {
      "cell_type": "markdown",
      "metadata": {
        "id": "35EVhxwxbx_X"
      },
      "source": [
        "* Thuật toán:\n",
        "```\n",
        "FUNTION reduce(a, b):\n",
        "    c = gcd(a, b)\n",
        "    return a//c, b//c\n",
        "```\n",
        "```\n",
        "FUNTION fraction(a, b, c, d):\n",
        "    count = 0\n",
        "    WHILE a != c or b != d:\n",
        "      IF a/b > c/d THEN\n",
        "        count = 0\n",
        "        break\n",
        "      count += 1\n",
        "      a,b = reduce(a+1,b+1)\n",
        "    return count\n",
        "```\n",
        "\n",
        "* Độ phức tạp: $O((n - m)\\log{b})$ với $n = bc$ và $m = ad$"
      ]
    },
    {
      "cell_type": "markdown",
      "metadata": {
        "id": "LwxTB4shsfca"
      },
      "source": [
        "## Problem 3: Khởi nghiệp"
      ]
    },
    {
      "cell_type": "markdown",
      "metadata": {
        "id": "PaiNEjYSsfcb"
      },
      "source": [
        "### 1. Description\n",
        "Sau thời gian làm việc tại nhà (work from home) do tình hình dịch bệnh, công ty $X$ nhận thấy đây là cơ hội để thay đổi mô hình làm việc của công ty để hướng tới tính đơn giản, hiệu quả cao hơn trong công việc. Cụ thể, công ty hiện tại gồm $n$ nhân viên. Có $b$ quan hệ dạng $(a_i, b_i)$ trong đó người $b_i$ nhận công việc từ người $a_i$ và $a_i$ chỉ đạo cho $b_i$. Mỗi nhân viên khi nhận việc có thể phân công cho những nhân viên do mình chỉ đạo. Nếu công viêc từ $a$ có thể tới được $b$, ta gọi $a$ là cấp trên của $b$ và $b$ là cấp dưới của $a$.\n",
        "\n",
        "Sau khi họp đại hội cổ ccông trực tuyến, công ty $X$ quyết định thực hiện tái cấu trúc như sau:\n",
        "\n",
        "* Thứ nhất, chọn ra một giám đốc, người này phải là người không có cấp trên và công việc mà người này phân công có thể tới được mọi người trong công ty;\n",
        "* Những người còn lại, mỗi người sẽ chỉ còn nhận việc trực tiếp từ đúng 1 người. Để tránh xáo trộn trong hoạt động sau khi thực hiện thay đổi, với mỗi người, tập những người là cấp trên của người đó phải không thay đổi (so với trước khi thực hiện tái cấu trúc).\n",
        "\n",
        "**Yêu cầu:** Xác định công ty $X$ có thể tái cấu trúc hay không, nếu không được - đưa ra thông báo $“No”$. Trong trường hợp có thể – đưa ra thông báo $“Yes”$ và chỉ ra dãy số $p_i$ xác định người có quyền phân công công việc cho người $i$ $(1 ≤ i ≤ n)$. Với Giám đốc $p_i$ tương ứng có giá trị là $-1$.\n",
        "\n",
        "**Dữ liệu:** Vào từ file thiết bị nhập chuẩn:\n",
        "\n",
        "Dòng đầu tiên chứa 2 số nguyên $n$ và $m$ $1 ≤ n, (m ≤ 5×10^5)$,\n",
        "Dòng thứ $i$ trong $m$ dòng sau chứa 2 số nguyên $a_i$ và $b_i$ $(1 ≤ a_i, b_i ≤ n, a_i ≠ b_i)$.\n",
        "Kết quả: Đưa ra thiết bị xuất chuẩn thông báo $“No”$ hoặc $“Yes”$. Nếu kết quả là $“Yes”$ – trên dòng thứ 2 đưa ra $n$ số nguyên $p_1, p_2, . . ., p_n$ tương ứng.\n",
        "\n",
        "\n",
        "* Example: \n",
        "\n",
        "| Input  | Output |\n",
        "| --- | --- |\n",
        "|3 3|Yes |\n",
        "|1 2| |\n",
        "|2 3|-1 1 2 |\n",
        "|1 3| |\n",
        "|---  |---|\n",
        "|4 4|No|\n",
        "|1 2||\n",
        "|1 3||\n",
        "|2 4||\n",
        "|3 4||\n",
        "\n",
        "\n"
      ]
    },
    {
      "cell_type": "markdown",
      "metadata": {
        "id": "L83fNVuasfcb"
      },
      "source": [
        "### 2. Abstraction\n",
        "\n",
        "Tìm thứ tự topo của đồ thị sao cho với mỗi đỉnh $v <> u$ (nút gốc) thì $deg^-(v) = 1$ và giữ nguyên quan hệ các đỉnh.\n"
      ]
    },
    {
      "cell_type": "markdown",
      "metadata": {
        "id": "CktDgddlsfcb"
      },
      "source": [
        "### 3. Pattern Recognition\n",
        "* Từ đề bài, ta coi cấp trên là nút gốc, người nhận công việc là nút ngọn của vector. Đây là đồ thị có hướng.\n",
        "* Trong đồ thị thoả, nút ứng với giám đốc thì chỉ là nút gốc chứ không được làm nút ngọn.\n",
        "* Trong quá trình cập nhật nút cha của nút con (của nút đang xét), nếu nút cha có cạnh nối với nút đang xét thì cập nhật, nút đang xét là nút cha.\n",
        "* Ta tiến hành duyệt BFS từ nút (giám đốc).\n",
        "\n",
        "\n",
        "\n",
        "\n"
      ]
    },
    {
      "cell_type": "markdown",
      "metadata": {
        "id": "gFRGBUSzsfcb"
      },
      "source": [
        "###  4. Algorithm Design\n",
        "\n"
      ]
    },
    {
      "cell_type": "markdown",
      "metadata": {
        "id": "dSWrVKsOmznK"
      },
      "source": [
        "* Pseudo Code:\n",
        "count: dùng để đếm sự xuất hiện của các nút ngọn trong đồ thị\n",
        "```\n",
        "FUNTION get_result:\n",
        "    IF count.count(0)>1 THEN:\n",
        "      print('No')\n",
        "      exit()\n",
        "    root=count.index(0)\n",
        "    parent = [-2]*n\n",
        "    visited = [False]*n\n",
        "    queue={root}\n",
        "    queue = {root}\n",
        "    WHILE queue:\n",
        "        this_node = next(iter(queue))\n",
        "        queue.discard(this_node)\n",
        "        visited[this_node] = True\n",
        "        FOR child in adj[this_node] DO\n",
        "            IF parent[child] == -1 THEN\n",
        "                parent[child] = this_node\n",
        "            ELSE THEN\n",
        "                IF this_node not in adj[parent[child]] THEN\n",
        "                    IF parent[child] not in adj[this_node] THEN\n",
        "                        print('No')\n",
        "                        exit()\n",
        "                ELSE THEN\n",
        "                    parent[child] = this_node\n",
        "            IF not visited[child] THEN\n",
        "                try:\n",
        "                    adj[child]\n",
        "                    queue.add(child)\n",
        "                except KeyError:\n",
        "                    continue\n",
        "    print('Yes')\n",
        "    FOR element in parent DO\n",
        "        IF element != -1 THEN\n",
        "            print(element + 1, end=' ')\n",
        "        ELSE THEN\n",
        "        print(-1, end=' ')\n",
        "```\n",
        "* Độ phức tạp: $O(V+E)$\n",
        "  *  V: Số nhân viên (bao gồm cả giám đốc)\n",
        "  *  E: Số lần phân công "
      ]
    }
  ]
}