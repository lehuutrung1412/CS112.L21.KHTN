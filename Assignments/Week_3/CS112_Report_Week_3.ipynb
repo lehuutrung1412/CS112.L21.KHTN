{
  "nbformat": 4,
  "nbformat_minor": 0,
  "metadata": {
    "colab": {
      "name": "CS112_Report_Week_3.ipynb",
      "provenance": [],
      "collapsed_sections": [],
      "toc_visible": true,
      "include_colab_link": true
    },
    "kernelspec": {
      "name": "python3",
      "display_name": "Python 3"
    },
    "language_info": {
      "name": "python"
    }
  },
  "cells": [
    {
      "cell_type": "markdown",
      "metadata": {
        "id": "view-in-github",
        "colab_type": "text"
      },
      "source": [
        "<a href=\"https://colab.research.google.com/github/lehuutrung1412/CS112.L21.KHTN/blob/main/Assignments/Week_3/CS112_Report_Week_3.ipynb\" target=\"_parent\"><img src=\"https://colab.research.google.com/assets/colab-badge.svg\" alt=\"Open In Colab\"/></a>"
      ]
    },
    {
      "cell_type": "markdown",
      "metadata": {
        "id": "LOn6d44kArht"
      },
      "source": [
        "# Báo cáo tuần 3\n",
        "Nhóm L21.KHTN.N09:\n",
        "\n",
        "  * 19522424 - Lê Hữu Trung\n",
        "  * 19521300 - Nguyễn Đỗ Mạnh Cường"
      ]
    },
    {
      "cell_type": "markdown",
      "metadata": {
        "id": "CHE1H45CPbUu"
      },
      "source": [
        "## Bài tập 1: Đổi mới"
      ]
    },
    {
      "cell_type": "markdown",
      "metadata": {
        "id": "khFGviNNMzXx"
      },
      "source": [
        "### 1. Đề bài\n",
        "\n",
        "* Ví dụ: \n",
        "\n",
        "| Input  | Output |\n",
        "| --- | --- |\n",
        "|||"
      ]
    },
    {
      "cell_type": "markdown",
      "metadata": {
        "id": "UeC2K7XpG-_6"
      },
      "source": [
        "### 2. Abstraction\n",
        "\n",
        "\n"
      ]
    },
    {
      "cell_type": "markdown",
      "metadata": {
        "id": "3jXejHJ3LkpU"
      },
      "source": [
        "### 3. Pattern Recognition\n",
        "\n"
      ]
    },
    {
      "cell_type": "markdown",
      "metadata": {
        "id": "zw6VO7UlQHWd"
      },
      "source": [
        "###  4. Algorithm Design\n",
        "\n",
        "* Pseudo Code:\n",
        "\n",
        "~~~\n",
        "\n",
        "~~~\n",
        "\n",
        "* Độ phức tạp thuật toán: $O( )$\n"
      ]
    },
    {
      "cell_type": "markdown",
      "metadata": {
        "id": "Yg7iK2nX4rie"
      },
      "source": [
        "## Bài tập 2: Số nguyên mới"
      ]
    },
    {
      "cell_type": "markdown",
      "metadata": {
        "id": "afWfW4OI4ri3"
      },
      "source": [
        "### 1. Đề bài\n",
        "\n",
        "* Ví dụ: \n",
        "\n",
        "| Input  | Output |\n",
        "| --- | --- |\n",
        "|||"
      ]
    },
    {
      "cell_type": "markdown",
      "metadata": {
        "id": "jvhw-_o-4ri4"
      },
      "source": [
        "### 2. Abstraction\n",
        "Cho 1 chuỗi gồm dãy các số, xử lí chuỗi sao cho thu được một chuỗi số chia hết cho 3, có giá trị lớn nhất và khác chuỗi ban đầu đúng 1 ký tự\n",
        "\n",
        "\n"
      ]
    },
    {
      "cell_type": "markdown",
      "metadata": {
        "id": "ICrCHQzT4ri4"
      },
      "source": [
        "### 3. Pattern Recognition\n",
        "Vét cạn:\n",
        "* Ta lần lượt thay từng kí tự trong chuỗi bằng các số từ 0 tới 9. Sau đó tìm chuỗi có giá trị lớn nhất sau khi thay\n",
        "* Nếu chuỗi không đổi, thì kí tự cuối trong chuỗi là 6\n",
        "\n"
      ]
    },
    {
      "cell_type": "markdown",
      "metadata": {
        "id": "TSYH7Bky4ri4"
      },
      "source": [
        "###  4. Algorithm Design\n",
        "\n",
        "* Pseudo Code:\n",
        "\n",
        "~~~\n",
        "FUNTION newInt(x):\n",
        "  res=0\n",
        "  FOR i=0 TO len(x)-1 DO\n",
        "    FOR j=0 TO 9 DO\n",
        "      IF j!= int(x[i]) THEN\n",
        "        tmp=x[:i]+str(j)+x[i+1:]\n",
        "      IF int(tmp)%3==0 THEN\n",
        "        res= max(res,int(tmp))\n",
        "  IF str(res)==x THEN:\n",
        "    x[-1]=6\n",
        "  return x\n",
        "~~~\n",
        "\n",
        "* Độ phức tạp thuật toán: $O( n)$\n"
      ]
    },
    {
      "cell_type": "markdown",
      "metadata": {
        "id": "i7deURy-4yYn"
      },
      "source": [
        "## Bài tập 3: Hệ thống cấp nước"
      ]
    },
    {
      "cell_type": "markdown",
      "metadata": {
        "id": "YqY-zqh04yYo"
      },
      "source": [
        "### 1. Đề bài\n",
        "Vùng đất diệu kỳ Wonderland có $N$ hộ gia đình đã được trang bị một hệ thống cung cấp nước sạch đến từng ngôi nhà. Mỗi đường ống nối trực tiếp 2 nhà, nước chảy trong đường ống theo 2 chiều, có thể truyền qua nhiều trung gian trước khi đến một nhà nào đó. Trong hồ sơ lưu trữ, các ngôi nhà được ghi số từ $1$ đến $N$.\n",
        "\n",
        "Một trận động đất đã gây nên sự cố nghiêm trọng làm cho cả vùng bị chia cắt thành nhiều khu vực rời nhau, không còn tiếp cận được với nguồn nước. Để khắc phục, những người có trách nhiệm đã khảo sát hiện trạng và ghi nhận được toàn vùng đất đang thảm họa vẫn còn $M$ đường ống đang hoạt động tốt.\n",
        "\n",
        "Nhiệm vụ đặt ra là phải khôi phục hệ thống cấp nước bằng cách lắp thêm một số đường ống. Tuy nhiên, do hạn chế về thời gian và kinh phí nên đòi hỏi phương án khôi phục phải được thực hiện với ít đường ống được lắp thêm nhất. Câu hỏi đặt ra: cần lắp thêm ít nhất bao nhiêu đường ống để hệ thống cấp nước có thể đưa nước đến từng ngôi nhà. Câu hỏi phụ: có bao nhiêu phương án khác nhau đáp ứng yêu cầu; số phương án có thể khá lớn nên chỉ cần đưa ra số dư khi chia cho $10^9+7$.\n",
        "\n",
        "Dữ liệu: Vào từ thiết bị nhập chuẩn:\n",
        "\n",
        "Dòng đầu tiên chứa 2 số nguyên $N, M$ $(1 ≤ N, M ≤ 10^5)$\n",
        "\n",
        "Mỗi dòng trong M dòng tiếp theo chứa 2 số nguyên $a, b$ $(1 ≤ a,  b ≤ N)$ cho biết vẫn còn đường ống nối nhà $a$ với nhà $b$\n",
        "\n",
        "Kết quả: Đưa ra thiết bị xuất chuẩn số đường ống cần được lắp thêm và số phương án đáp ứng yêu cầu (theo mô đun $10^9+7$) mỗi số trên một dòng.\n",
        "\n",
        "* Ví dụ: \n",
        "\n",
        "| Input  | Output |\n",
        "| --- | --- |\n",
        "|3 1| 1|\n",
        "|1 2| 2|"
      ]
    },
    {
      "cell_type": "markdown",
      "metadata": {
        "id": "8L8ViXGq4yYp"
      },
      "source": [
        "### 2. Abstraction\n",
        "\n",
        "Tìm số cạnh để nối các thành phần liên thông và số cách có thể có.\n",
        "\n"
      ]
    },
    {
      "cell_type": "markdown",
      "metadata": {
        "id": "yeruP80d4yYp"
      },
      "source": [
        "### 3. Pattern Recognition\n",
        "\n",
        "* Từ đề bài, ta coi mỗi nhà là một đỉnh và mỗi đường ống nối 2 nhà là một cạnh của đơn đồ thị. Vì nước chảy 2 chiều nên đây là đồ thị vô hướng. Các vùng bị chia cắt thành nhiều khu vực rời nhau tức là đồ thị bị chia thành các thành phần liên thông và các thành phần liên thông này không liên thông với nhau. Ta tìm cách để nối các thành phần liên thông để tạo thành cây khung của đồ thị.\n",
        "\n",
        "* Từ $x$ thành phần liên thông tìm được, ta nhận thấy số cạnh nối các thành phần này là $x - 1$, ta sử dụng công thức [Cayley](https://en.wikipedia.org/wiki/Cayley%27s_formula) để tìm số cách nối cạnh là $n^{x-2}$.\n",
        "\n",
        "* Do mỗi thành phần liên thông có $s_i$ đỉnh, do đó số cách để nối các thành phần liên thông là $s_i * n^{x-2}$ với $i \\in [1,x]$\n"
      ]
    },
    {
      "cell_type": "markdown",
      "metadata": {
        "id": "2-FFthja4yYq"
      },
      "source": [
        "###  4. Algorithm Design\n",
        "\n",
        "* Pseudo Code:\n",
        "\n",
        "~~~\n",
        "\n",
        "~~~\n",
        "\n",
        "* Độ phức tạp thuật toán: $O( )$\n"
      ]
    }
  ]
}