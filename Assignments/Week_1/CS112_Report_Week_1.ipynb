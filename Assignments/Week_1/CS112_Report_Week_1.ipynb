{
  "nbformat": 4,
  "nbformat_minor": 0,
  "metadata": {
    "colab": {
      "name": "CS112_Report_Week_1.ipynb",
      "provenance": [],
      "collapsed_sections": [],
      "toc_visible": true,
      "include_colab_link": true
    },
    "kernelspec": {
      "display_name": "Python 3",
      "name": "python3"
    },
    "language_info": {
      "name": "python"
    }
  },
  "cells": [
    {
      "cell_type": "markdown",
      "metadata": {
        "id": "view-in-github",
        "colab_type": "text"
      },
      "source": [
        "<a href=\"https://colab.research.google.com/github/lehuutrung1412/CS112.L21.KHTN/blob/main/Assignments/Week_1/CS112_Report_Week_1.ipynb\" target=\"_parent\"><img src=\"https://colab.research.google.com/assets/colab-badge.svg\" alt=\"Open In Colab\"/></a>"
      ]
    },
    {
      "cell_type": "markdown",
      "metadata": {
        "id": "LOn6d44kArht"
      },
      "source": [
        "# Báo cáo tuần 1\n",
        "Nhóm L21.KHTN.N09:\n",
        "\n",
        "  * 19522424 - Lê Hữu Trung\n",
        "  * 19521300 - Nguyễn Đỗ Mạnh Cường"
      ]
    },
    {
      "cell_type": "markdown",
      "metadata": {
        "id": "CHE1H45CPbUu"
      },
      "source": [
        "## Bài tập 1: TẢO BIỂN"
      ]
    },
    {
      "cell_type": "markdown",
      "metadata": {
        "id": "khFGviNNMzXx"
      },
      "source": [
        "### 1. Đề bài\n",
        "\n",
        "Tảo biển sinh sản rất nhanh khi có môi trường thuận lợi với chúng và có những loài còn tiết ra môi trường những chất độc hại.\n",
        "\n",
        "Một loại tảo nâu trong môi trường nước bị ô nhiễm nặng sinh sản theo quy luật sau:\n",
        "\n",
        "Ngày đầu tiên (ngày 0) có $n$ cá thể ở mức 1,\n",
        "Ở mỗi ngày tiếp theo, mỗi cá thể mức $i$ sinh ra $i$ cá thể mức 1, các cá thể mới sinh sẽ sinh sôi, phát triển từ ngày hôm sau.\n",
        "Bản thân các cá thể mức $i$ phát triển thành mức $i+1$ và chu kỳ phát triển trong ngày chấm dứt.\n",
        "Hãy xác định sau $k$ ngày trong nước biển có bao nhiêu cá thể.\n",
        "\n",
        "* Dữ liệu: Vào từ thiết bị nhập chuẩn gồm một dòng chứa 2 số nguyên $n$ và $k$ ($1 ≤ n ≤ 1000, 1 ≤ k ≤ 10^{17}$).\n",
        "\n",
        "* Kết quả: Đưa ra thiết bị xuất chuẩn một số nguyên – số lượng cá thể  tảo theo mô đun $10^9+7$.\n",
        "\n",
        "* Ví dụ:\n",
        "\n",
        "| Input | Output |\n",
        "| --- | --- |\n",
        "| 3 2 | 15 |"
      ]
    },
    {
      "cell_type": "markdown",
      "metadata": {
        "id": "UeC2K7XpG-_6"
      },
      "source": [
        "### 2. Abstraction\n",
        "\n",
        "Cho $n$ và $k$, tính $F(2k+1)*n$ với $F(2k+1)$ là số Fibonacci thứ $2k+1$.\n"
      ]
    },
    {
      "cell_type": "markdown",
      "metadata": {
        "id": "3jXejHJ3LkpU"
      },
      "source": [
        "### 3. Pattern Recognition\n",
        "* Dạng bài toán: Tính số Fibonacci\n",
        "* Đặc điểm nhận dạng:\n",
        "    * Thống kê số lượng cá thể sinh ra sau k ngày từ 1 cá thể ban đầu ta có: 1 2 5 13 34 ...\n",
        "    * Mặc khác, ta có dãy Fibonacci: 0 1 1 2 3 5 8 13 21 34 ...\n",
        "    * Nhận thấy dãy ta thống kê được chính là các số nằm ở vị trí lẻ trong dãy Fibonacci (thứ tự bắt đầu từ 0)\n"
      ]
    },
    {
      "cell_type": "markdown",
      "metadata": {
        "id": "zw6VO7UlQHWd"
      },
      "source": [
        "###  4. Algorithm Design\n",
        "* Ta có hàm tính Fibonacci được định nghĩa:\n",
        "\n",
        "$$F(n) = \n",
        "\\begin{cases}\n",
        "0 &\\mbox{if } n = 0 \\\\\n",
        "1 & \\mbox{if } n = 1 \\\\\n",
        "F(n-1) + F(n-2) & \\mbox{if } n > 1\n",
        "\\end{cases}$$\n",
        "\n",
        "* Do đó ta có các cách thiết kế giải thuật cho bài toán này như sau:\n"
      ]
    },
    {
      "cell_type": "markdown",
      "metadata": {
        "id": "clsvCY27x_tr"
      },
      "source": [
        "#### 1. Sử dụng đệ quy\n",
        "* Pseudo code:\n",
        "\n",
        "```\n",
        "FUNCTION Fibo(n):\n",
        "    IF n = 0 THEN\n",
        "      RETURN 0\n",
        "    ELSE IF n = 1 THEN\n",
        "      RETURN 1\n",
        "    ELSE\n",
        "      RETURN Fibo(n-1) + Fibo(n-2)\n",
        "```\n",
        "* Độ phức tạp thuật toán: $O(2^n)$"
      ]
    },
    {
      "cell_type": "markdown",
      "metadata": {
        "id": "D-iIN35dzpP6"
      },
      "source": [
        "#### 2. Sử dụng quy hoạch động\n",
        "* Pseudo code:\n",
        "\n",
        "```\n",
        "FUNCTION Fibo(n):\n",
        "    BEFORE_0 = 0\n",
        "    BEFORE_1 = 1\n",
        "    IF n = 0 THEN\n",
        "      RETURN BEFORE_0\n",
        "    ELSE IF n = 1 THEN\n",
        "      RETURN BEFORE_1\n",
        "    ELSE\n",
        "      FOR i = 2 TO n DO\n",
        "        NOW = BEFORE_0 + BEFORE_1\n",
        "        BEFORE_0 = BEFORE_1\n",
        "        BEFORE_1 = NOW\n",
        "      RETURN NOW\n",
        "```\n",
        "\n",
        "* Độ phức tạp thuật toán: $O(n)$"
      ]
    },
    {
      "cell_type": "markdown",
      "metadata": {
        "id": "xX7VmQNj3ORN"
      },
      "source": [
        "#### 3. Sử dụng phương pháp tính bằng ma trận\n",
        "\n",
        "* Cơ sở:\n",
        "$$\\begin{pmatrix}\n",
        "1 & 1 \\\\\n",
        "1 & 0 \n",
        "\\end{pmatrix}^n\n",
        "=\n",
        "\\begin{pmatrix}\n",
        "F_{n+1} & F_n \\\\\n",
        "F_n & F_{n-1} \n",
        "\\end{pmatrix}\n",
        "$$\n",
        "\n",
        "  Xem chứng minh thêm tại [đây](https://en.wikipedia.org/wiki/Fibonacci_number).\n",
        "\n",
        "    * Với $n$ chẵn, ta có:\n",
        "$$\n",
        "\\begin{pmatrix}\n",
        "1 & 1 \\\\\n",
        "1 & 0 \n",
        "\\end{pmatrix}^n\n",
        "=\n",
        "\\begin{pmatrix}\n",
        "1 & 1 \\\\\n",
        "1 & 0 \n",
        "\\end{pmatrix}^{\\frac{n}2}\n",
        "\\begin{pmatrix}\n",
        "1 & 1 \\\\\n",
        "1 & 0 \n",
        "\\end{pmatrix}^{\\frac{n}2}\n",
        "$$\n",
        "    * Với $n$ lẻ, ta có:\n",
        "$$\n",
        "\\begin{pmatrix}\n",
        "1 & 1 \\\\\n",
        "1 & 0 \n",
        "\\end{pmatrix}^n\n",
        "=\n",
        "\\begin{pmatrix}\n",
        "1 & 1 \\\\\n",
        "1 & 0 \n",
        "\\end{pmatrix}^{\\frac{n}2}\n",
        "\\begin{pmatrix}\n",
        "1 & 1 \\\\\n",
        "1 & 0 \n",
        "\\end{pmatrix}^{\\frac{n}2}\n",
        "\\begin{pmatrix}\n",
        "1 & 1 \\\\\n",
        "1 & 0 \n",
        "\\end{pmatrix}\n",
        "$$\n",
        "* Pseudo code:\n",
        "\n",
        "```\n",
        "FUNCTION matrixFibonacci(n):\n",
        "    specialMatrix = [[1,1],[1,0]]\n",
        "    IF n = 1 THEN\n",
        "      RETURN specialMatrix\n",
        "    IF n MOD 2 = 0 THEN\n",
        "      RETURN matrixFibonacci(n DIV 2) * matrixFibonacci(n DIV 2)\n",
        "    ELSE\n",
        "      RETURN matrixFibonacci(n DIV 2) * matrixFibonacci((n DIV 2) + 1)\n",
        "```\n",
        "\n",
        "* Độ phức tạp thuật toán: $O(log(n))$"
      ]
    },
    {
      "cell_type": "markdown",
      "metadata": {
        "id": "us-lbzN7MO9l"
      },
      "source": [
        "## Bài tập 2: Trạm Thu Phí\n"
      ]
    },
    {
      "cell_type": "markdown",
      "metadata": {
        "id": "ZUxSp2PtEUF8"
      },
      "source": [
        "### 1. Đề bài\n",
        "BOT (Built-Operation-Transfer, có nghĩa: Xây dựng-Vận hành-Chuyển giao) là hình thức Chính phủ kêu gọi các công ty bỏ vốn xây dựng trước (Built) thông qua đấu thầu, sau đó khai thác vận hành một thời gian (Operation) và sau cùng là chuyển giao (Transfer) lại cho nhà nước sở tại.\n",
        "\n",
        "Đường cao tốc xuyên quốc gia được xây dựng theo hình thức BOT. Công ty Đa quốc gia Modern Highway trúng thầu, chia toàn bộ con đường thành n đoạn. Theo tính toán của Công ty sau khi chuyển giao con đường cho chính phủ sở tại quản lý thì lãi thu được ở đoạn đường thứ **$i$** là **$a_i$**, **$a_i$** có thể dương, âm hoặc bằng 0, tức là với từng đoạn con có thể lãi, lỗ hoặc hòa vốn. Từng nhóm các đoạn đường liên tiếp nhau (gọi tắt là khoảng) được chia cho các công ty con thực hiện. Công ty con ASEAM Highway hiện đang có trụ sở ở nước sở tại được quyền chọn trước khoảng tùy ý (có thể là cả con đường).\n",
        "\n",
        "Dĩ nhiên Ban Giám đốc ASEAM Highway muốn chọn khoảng bắt đầu từ đoạn **$p$** đến hết đoạn **$q$** mang lại lợi nhuận cao nhất hoặc lỗ ít nhất nếu không có khoảng nào cho lãi.\n",
        "\n",
        "Hãy chỉ ra khoảng cần chọn và lãi thu được. Nếu có nhiều cách chọn thì chỉ ra cách chọn có p nhỏ nhất.\n",
        "\n",
        "**Dữ liệu:** Vào từ thiết bị nhập chuẩn:\n",
        "\n",
        "* Dòng đầu tiên chứa số nguyên **$n$** $(1 ≤ n ≤ 10^6)$\n",
        "* Dòng thứ 2 chứa n số nguyên $a_1, a_2, . . ., a_n$ $(0 ≤ |a_i| ≤ 10^9, i = 1 ÷ n).$\n",
        "\n",
        "**Kết quả:** Đưa ra thiết bị xuất chuẩn trên một dòng 2 số nguyên $p$, $q$ và lãi thu được."
      ]
    },
    {
      "cell_type": "markdown",
      "metadata": {
        "id": "oc6F_z6wQyLP"
      },
      "source": [
        "### 2.  Abtraction\n",
        "Cho 1 mảng gồm $n$ phần tử, tìm mảng con có tổng lớn nhất."
      ]
    },
    {
      "cell_type": "markdown",
      "metadata": {
        "id": "e6R3TWhEQ1Wr"
      },
      "source": [
        "### 3. Pattern Recogition\n",
        "Dạng bài toán: Tìm dãy con liên tiếp có tổng lớn nhất\n"
      ]
    },
    {
      "cell_type": "markdown",
      "metadata": {
        "id": "0pGYSAOEHZLg"
      },
      "source": [
        "###  4. Algorithm Design"
      ]
    },
    {
      "cell_type": "markdown",
      "metadata": {
        "id": "8BHhwD6DHdbe"
      },
      "source": [
        "#### 1. Sử dụng vét cạn\n",
        "\n",
        "* Pseudo Code:\n",
        "\n",
        "```\n",
        "FUNCTION findMaxSub(a, n):\n",
        "    maxSum = -INF\n",
        "    p = q = 0\n",
        "    FOR i = 0 TO n DO\n",
        "      FOR j = i TO n DO\n",
        "        sum = 0\n",
        "        FOR k = i TO j DO\n",
        "          sum += a[k]\n",
        "        IF sum > maxSum THEN\n",
        "          maxSum = sum\n",
        "          p = i\n",
        "          q = j\n",
        "    RETURN (p,q,maxSum)\n",
        "\n",
        "```\n",
        "\n",
        "* Độ phức tạp thuật toán: $O(n^3)$\n"
      ]
    },
    {
      "cell_type": "markdown",
      "metadata": {
        "id": "ePGvcygsTsoa"
      },
      "source": [
        "#### 2. Sử dụng quy hoạch động (Thuật toán Kadane)\n",
        "\n",
        "* Pseudo Code:\n",
        "\n",
        "```\n",
        "FUNTION findMaxSub(a,n):\n",
        "  best = -INF\n",
        "  start = 0\n",
        "  end = 0\n",
        "  startTemp = 0\n",
        "  sum = 0\n",
        "  FOR i = 0 TO n DO:\n",
        "    IF a[i] <= sum + a[i] THEN\n",
        "      sum = sum + a[i]\n",
        "    ELSE\n",
        "      startTemp = i\n",
        "      sum = a[i]\n",
        "    IF sum > best THEN\n",
        "      best = sum\n",
        "      start = startTemp\n",
        "      end = i\n",
        "  RETURN start+1 , end+1 , best\n",
        "```\n",
        "\n",
        "* Độ phức tạp thuật toán: $O(n)$"
      ]
    }
  ]
}