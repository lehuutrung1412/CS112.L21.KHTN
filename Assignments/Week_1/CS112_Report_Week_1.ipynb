{
  "nbformat": 4,
  "nbformat_minor": 0,
  "metadata": {
    "colab": {
      "name": "CS112_Report_Week_1.ipynb",
      "provenance": [],
      "collapsed_sections": [],
      "toc_visible": true,
      "include_colab_link": true
    },
    "kernelspec": {
      "display_name": "Python 3",
      "name": "python3"
    },
    "language_info": {
      "name": "python"
    }
  },
  "cells": [
    {
      "cell_type": "markdown",
      "metadata": {
        "id": "view-in-github",
        "colab_type": "text"
      },
      "source": [
        "<a href=\"https://colab.research.google.com/github/lehuutrung1412/CS112.L21.KHTN/blob/main/Assignments/Week_1/CS112_Report_Week_1.ipynb\" target=\"_parent\"><img src=\"https://colab.research.google.com/assets/colab-badge.svg\" alt=\"Open In Colab\"/></a>"
      ]
    },
    {
      "cell_type": "markdown",
      "metadata": {
        "id": "LOn6d44kArht"
      },
      "source": [
        "# Báo cáo tuần 1\n",
        "Nhóm N09:\n",
        "\n",
        "  * 19522424 - Lê Hữu Trung\n",
        "  * 19521300 - Nguyễn Đỗ Mạnh Cường"
      ]
    },
    {
      "cell_type": "markdown",
      "metadata": {
        "id": "CHE1H45CPbUu"
      },
      "source": [
        "## Bài tập 1: TẢO BIỂN"
      ]
    },
    {
      "cell_type": "markdown",
      "metadata": {
        "id": "khFGviNNMzXx"
      },
      "source": [
        "### 1. Đề bài\n",
        "\n",
        "Tảo biển sinh sản rất nhanh khi có môi trường thuận lợi với chúng và có những loài còn tiết ra môi trường những chất độc hại.\n",
        "\n",
        "Một loại tảo nâu trong môi trường nước bị ô nhiễm nặng sinh sản theo quy luật sau:\n",
        "\n",
        "Ngày đầu tiên (ngày 0) có $n$ cá thể ở mức 1,\n",
        "Ở mỗi ngày tiếp theo, mỗi cá thể mức $i$ sinh ra $i$ cá thể mức 1, các cá thể mới sinh sẽ sinh sôi, phát triển từ ngày hôm sau.\n",
        "Bản thân các cá thể mức $i$ phát triển thành mức $i+1$ và chu kỳ phát triển trong ngày chấm dứt.\n",
        "Hãy xác định sau $k$ ngày trong nước biển có bao nhiêu cá thể.\n",
        "\n",
        "* Dữ liệu: Vào từ thiết bị nhập chuẩn gồm một dòng chứa 2 số nguyên $n$ và $k$ ($1 ≤ n ≤ 1000, 1 ≤ k ≤ 10^{17}$).\n",
        "\n",
        "* Kết quả: Đưa ra thiết bị xuất chuẩn một số nguyên – số lượng cá thể  tảo theo mô đun $10^9+7$.\n",
        "\n",
        "* Ví dụ:\n",
        "\n",
        "| Input | Output |\n",
        "| --- | --- |\n",
        "| 3 2 | 15 |"
      ]
    },
    {
      "cell_type": "markdown",
      "metadata": {
        "id": "UeC2K7XpG-_6"
      },
      "source": [
        "### 2. Abstraction\n",
        "\n",
        "Cho $n$ và $k$, tính $F(2k+1)*n$ với $F(2k+1)$ là số Fibonacci thứ $2k+1$.\n"
      ]
    },
    {
      "cell_type": "markdown",
      "metadata": {
        "id": "3jXejHJ3LkpU"
      },
      "source": [
        "### 3. Pattern Recognition\n",
        "* Dạng bài toán: Tính số Fibonacci\n",
        "* Đặc điểm nhận dạng:\n",
        "    * Thống kê số lượng cá thể sinh ra sau k ngày từ 1 cá thể ban đầu ta có: 1 2 5 13 34 ...\n",
        "    * Mặc khác, ta có dãy Fibonacci: 0 1 1 2 3 5 8 13 21 34 ...\n",
        "    * Nhận thấy dãy ta thống kê được chính là các số nằm ở vị trí lẻ trong dãy Fibonacci (thứ tự bắt đầu từ 0)\n"
      ]
    },
    {
      "cell_type": "markdown",
      "metadata": {
        "id": "zw6VO7UlQHWd"
      },
      "source": [
        "###  4. Algorithm Design"
      ]
    },
    {
      "cell_type": "markdown",
      "metadata": {
        "id": "us-lbzN7MO9l"
      },
      "source": [
        "## Bài tập 2: Trạm Thu Phí\n",
        "\n",
        "### 1. Đề bài:\n",
        "BOT (Built-Operation-Transfer, có nghĩa: Xây dựng-Vận hành-Chuyển giao) là hình thức Chính phủ kêu gọi các công ty bỏ vốn xây dựng trước (Built) thông qua đấu thầu, sau đó khai thác vận hành một thời gian (Operation) và sau cùng là chuyển giao (Transfer) lại cho nhà nước sở tại.\n",
        "\n",
        "Đường cao tốc xuyên quốc gia được xây dựng theo hình thức BOT. Công ty Đa quốc gia Modern Highway trúng thầu, chia toàn bộ con đường thành n đoạn. Theo tính toán của Công ty sau khi chuyển giao con đường cho chính phủ sở tại quản lý thì lãi thu được ở đoạn đường thứ **$i$** là **$a_i$**, **$a_i$** có thể dương, âm hoặc bằng 0, tức là với từng đoạn con có thể lãi, lỗ hoặc hòa vốn. Từng nhóm các đoạn đường liên tiếp nhau (gọi tắt là khoảng) được chia cho các công ty con thực hiện. Công ty con ASEAM Highway hiện đang có trụ sở ở nước sở tại được quyền chọn trước khoảng tùy ý (có thể là cả con đường).\n",
        "\n",
        "Dĩ nhiên Ban Giám đốc ASEAM Highway muốn chọn khoảng bắt đầu từ đoạn **$p$** đến hết đoạn **$q$** mang lại lợi nhuận cao nhất hoặc lỗ ít nhất nếu không có khoảng nào cho lãi.\n",
        "\n",
        "Hãy chỉ ra khoảng cần chọn và lãi thu được. Nếu có nhiều cách chọn thì chỉ ra cách chọn có p nhỏ nhất.\n",
        "\n",
        "**Dữ liệu:** Vào từ thiết bị nhập chuẩn:\n",
        "\n",
        "* Dòng đầu tiên chứa số nguyên **$n$** (1 ≤ **$n$** ≤ 106),\n",
        "* Dòng thứ 2 chứa n số nguyên $a_1, a_2, . . ., a_n$ $(0 ≤ |a_i| ≤ 10^9, i = 1 ÷ n).$\n",
        "\n",
        "**Kết quả:** Đưa ra thiết bị xuất chuẩn trên một dòng 2 số nguyên $p$, $q$ và lãi thu được.\n"
      ]
    },
    {
      "cell_type": "markdown",
      "metadata": {
        "id": "oc6F_z6wQyLP"
      },
      "source": [
        "### 2.  Abtraction\n",
        "Cho 1 mảng gồm $n$ phần tử, tìm mảng con có tổng lớn nhất"
      ]
    },
    {
      "cell_type": "markdown",
      "metadata": {
        "id": "e6R3TWhEQ1Wr"
      },
      "source": [
        "### 3. Pattern Recogition\n",
        "* Dạng bài toán: Quy hoạch động\n",
        "* Đặc điểm nhận dạng\n"
      ]
    },
    {
      "cell_type": "markdown",
      "metadata": {
        "id": "ePGvcygsTsoa"
      },
      "source": [
        "###  4. Algorithm Design\n"
      ]
    }
  ]
}