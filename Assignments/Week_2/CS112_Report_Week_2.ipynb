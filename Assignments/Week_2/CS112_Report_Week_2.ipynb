{
  "nbformat": 4,
  "nbformat_minor": 0,
  "metadata": {
    "colab": {
      "name": "CS112_Report_Week_2.ipynb",
      "provenance": [],
      "toc_visible": true,
      "include_colab_link": true
    },
    "kernelspec": {
      "name": "python3",
      "display_name": "Python 3"
    },
    "language_info": {
      "name": "python"
    }
  },
  "cells": [
    {
      "cell_type": "markdown",
      "metadata": {
        "id": "view-in-github",
        "colab_type": "text"
      },
      "source": [
        "<a href=\"https://colab.research.google.com/github/lehuutrung1412/CS112.L21.KHTN/blob/main/Assignments/Week_2/CS112_Report_Week_2.ipynb\" target=\"_parent\"><img src=\"https://colab.research.google.com/assets/colab-badge.svg\" alt=\"Open In Colab\"/></a>"
      ]
    },
    {
      "cell_type": "markdown",
      "metadata": {
        "id": "LOn6d44kArht"
      },
      "source": [
        "# Báo cáo tuần 2\n",
        "Nhóm L21.KHTN.N09:\n",
        "\n",
        "  * 19522424 - Lê Hữu Trung\n",
        "  * 19521300 - Nguyễn Đỗ Mạnh Cường"
      ]
    },
    {
      "cell_type": "markdown",
      "metadata": {
        "id": "CHE1H45CPbUu"
      },
      "source": [
        "## Bài tập 1: H-INDEX"
      ]
    },
    {
      "cell_type": "markdown",
      "metadata": {
        "id": "khFGviNNMzXx"
      },
      "source": [
        "### 1. Đề bài\n",
        "Làm thế nào để đánh giá sự thành công của một nhà khoa học?  Dựa vào số bài báo được công bố hay dựa vào số lần một bài báo được trích dẫn tới ở công trình của những người khác? Cả hai tham số đó đều quan trọng.\n",
        "\n",
        "Một bài báo có điểm số trích dẫn là $c$ nếu nó được trích dẫn tới $c$ lần trong các cách đánh giá sự thành công của một nhà khoa học là tính chỉ số ảnh hưởng $H-Index$ dựa trên sự kết hợp giữa số lượng bài báo và chỉ số trích dẫn của các bài báo đó.\n",
        "\n",
        "Chỉ số $H-Index$ của một nhà khoa học bằng $k$ lớn nhất nếu người đó có $k$ bài báo, mỗi bài có điểm số trích dẫn không nhỏ hơn $k$. Ví dụ, một người có 10 bài báo, mỗi bài báo được trích dẫn không dưới 10 lần thì $H-Index$ của người đó ít nhất là bằng 10.\n",
        "\n",
        "Một người có n bài báo, bài báo thứ i có điểm trích dẫn là $c_i$, $i = 1 ÷ n$. Hãy xác định $H-Index $ của người đó.\n",
        "\n",
        "Dữ liệu: Vào từ thiết bị nhập chuẩn:\n",
        "* Dòng đầu tiên chứa một số nguyên $n$ $(1 ≤ n ≤ 5×10^5)$,\n",
        "* Dòng thứ 2 chứa $n$ số nguyên $c_1, c_2, . . ., c_n (0 ≤ c_i ≤ 10^6, i = 1 ÷ n)$.\n",
        "\n",
        "* Ví dụ: Kết quả: Đưa ra thiết bị xuất chuẩn một số nguyên  $H-Index$ tìm được.\n",
        "\n",
        "| Input  | Output |\n",
        "| --- | --- |\n",
        "|5|  4|\n",
        "| 8 5 3 4 10 ||"
      ]
    },
    {
      "cell_type": "markdown",
      "metadata": {
        "id": "UeC2K7XpG-_6"
      },
      "source": [
        "### 2. Abstraction\n",
        "\n",
        "Tìm số $k$ lớn nhất sao cho có $k$ phần tử trong dãy $n$ phần tử lớn hơn hoặc bằng $k$.\n"
      ]
    },
    {
      "cell_type": "markdown",
      "metadata": {
        "id": "3jXejHJ3LkpU"
      },
      "source": [
        "### 3. Pattern Recognition\n",
        "\n",
        "Cho 1 mảng c gồm $n$ phần tử, duyệt mảng đã sắp xếp giảm dần, tìm phần tử đầu tiên thoả chỉ số (số lượng phần tử lớn hơn hoặc bằng nó trong dãy) ≤ giá trị tại chỉ số đó.\n"
      ]
    },
    {
      "cell_type": "markdown",
      "metadata": {
        "id": "zw6VO7UlQHWd"
      },
      "source": [
        "###  4. Algorithm Design\n",
        "\n",
        "* Pseudo Code:\n",
        "\n",
        "~~~\n",
        "FUNCTION H_index(n,c):\n",
        "    c.sort(reserve=True)\n",
        "    FOR i = n TO 1 DO\n",
        "      IF i <= c[i-1] THEN\n",
        "          RETURN i\n",
        "    RETURN 0\n",
        "~~~\n",
        "\n",
        "* Độ phức tạp thuật toán: $O( n\\log{(n)})$\n"
      ]
    },
    {
      "cell_type": "markdown",
      "metadata": {
        "id": "-syVD8890Wmz"
      },
      "source": [
        "## Bài tập 2: KHOÁ SỐ"
      ]
    },
    {
      "cell_type": "markdown",
      "metadata": {
        "id": "S8IIOCh50Wm2"
      },
      "source": [
        "### 1. Đề bài\n",
        "Để tăng độ an toàn chống hiện tượng cướp ngân hàng ngày càng phổ biến người ta dùng khóa số với mã mở khóa đơn giản nhưng rất hiệu quả. Trên cửa ra vào hiển thị một xâu khá dài các ký tự số. Các chữ số có thể di chuyển đổi chổ cho nhau hoặc bị xóa. Muốn mở khóa người ta phải di chuyển các chữ số và trong trường hợp cần thiết – xóa vài chữ số để nhận được xâu lớn nhất thỏa mãn điều kiện đã cài đặt. Điều kiện này được thay đổi thường xuyên. Hôm nay điều kiện đó là “Số nhận được phải chia hết cho 3”. Số nhận được có thể bắt đầu bằng các chữ số 0. Xâu “000” sẽ lớn hơn xâu “00”.\n",
        "\n",
        "Hãy xác định khóa mở cửa.\n",
        "\n",
        "**Dữ liệu:** Vào từ thiết bị nhập chuẩn gồm một xâu ký tự số có độ dài lớn hơn 2 và không vượt quá 105.\n",
        "\n",
        "**Kết quả:** Đưa ra thiết bị xuất chuẩn xâu khóa mở cửa.\n",
        "\n",
        "\n",
        "\n",
        "* Ví dụ:\n",
        "\n",
        "| Input | Output |\n",
        "| --- | --- |\n",
        "|105|510|"
      ]
    },
    {
      "cell_type": "markdown",
      "metadata": {
        "id": "Pi9lvu7q0Wm3"
      },
      "source": [
        "### 2. Abstraction\n",
        "Cho 1 chuỗi gồm dãy các số, xử lí chuỗi sao cho thu được một chuỗi số chia hết cho 3 và có giá trị lớn nhất\n"
      ]
    },
    {
      "cell_type": "markdown",
      "metadata": {
        "id": "GjxdDkNz0Wm3"
      },
      "source": [
        "### 3. Pattern Recognition\n",
        "Đặc điểm nhận dạng:\n",
        "* Dựa vào dấu hiệu nhận biết chia hết cho 3 là tổng các chữ số chia hết cho 3.\n",
        "* Có 2 trường hợp không chia hết cho 3 là:\n",
        "\n",
        "    * Chia 3 dư 1: Ta thực hiện ưu tiên từng bước như sau\n",
        "      * Xoá 1 số chia 3 dư 1 (nếu có)\n",
        "      * Xoá 2 số chia 3 dư 2\n",
        "\n",
        "    * Chia 3 dư 2: Ta thực hiện ưu tiên từng bước như sau\n",
        "      * Xoá 1 số chia 3 dư 2 (nếu có)\n",
        "      * Xoá 2 số chia 3 dư 1\n",
        "\n"
      ]
    },
    {
      "cell_type": "markdown",
      "metadata": {
        "id": "Cp7A32GV0Wm3"
      },
      "source": [
        "###  4. Algorithm Design\n",
        "\n",
        "* Pseudo code:\n",
        "\n",
        "~~~\n",
        "listInt.sort(reverse=True)\n",
        "sumList = sum(listInt)\n",
        "dem = [0,0,0]\n",
        "listMod1 = []\n",
        "listMod2 = []\n",
        "FOR i = 0 TO len(listInt) DO\n",
        "    dem[listInt[i] % 3] += 1\n",
        "    IF (listInt[i] % 3 == 1) THEN\n",
        "        listMod1.append(i) \n",
        "    IF (listInt[i] % 3 == 2) THEN\n",
        "        listMod2.append(i)\n",
        "\n",
        "IF sumList % 3 == 1 THEN\n",
        "    IF dem[1] > 0 THEN\n",
        "        listInt.remove(listMod1[-1])\n",
        "    ELSE\n",
        "        FOR i = len(listMod2) TO len(listMod2)-1 DO \n",
        "            listInt.remove(listMod2[i])\n",
        "ELSE IF sumList % 3 == 2 THEN\n",
        "    IF dem[2] > 0 THEN\n",
        "        listInt.remove(listMod2[-1])\n",
        "    ELSE\n",
        "        FOR i = len(listMod1) TO len(listMod1)-1 DO \n",
        "            listInt.remove(listMod1[i])\n",
        "Solution = ''.join([str(i) for i in listInt]\n",
        "~~~\n",
        "\n",
        "* Độ phức tạp thuật toán: $O( n\\log{(n)})$\n"
      ]
    },
    {
      "cell_type": "markdown",
      "metadata": {
        "id": "kpPB5wLH0X4v"
      },
      "source": [
        "## Bài tập 3: CON ĐƯỜNG GỐM SỨ"
      ]
    },
    {
      "cell_type": "markdown",
      "metadata": {
        "id": "xQGAP6bp0X4v"
      },
      "source": [
        "### 1. Đề bài"
      ]
    },
    {
      "cell_type": "markdown",
      "metadata": {
        "id": "8MrqhD07xx5X"
      },
      "source": [
        "\n",
        "Sau khi bê tông hóa đê chống lụt, thành phố quyết định cho khảm lên tường bê tông của đê tranh ghép tạo bởi các mảnh gốm sứ lấy từ các lò gốm nổi tiếng trong nước. Toàn bộ con đê được chia thành n phần có độ rộng giống nhau, mỗi phần gọi là một lô. Mỗi bức tranh khảm trên đó đều phải có độ rộng giống nhau, tức là bao gồm một số như nhau các lô liên tiếp và toàn bộ tường phải được phủ kín tranh từ đầu đến cuối, mỗi lô phải được tạo màu chủ đạo (gọi là màu của lô) từ một loại gốm đặc trưng lấy từ một lò gốm nào đó trong nước, ví dụ gốm màu xanh Cô ban từ lò gốm Ánh Hồng Quảng Ninh, gốm da lươn – từ Bát Tràng Hà Nội, gốm mộc hồng nhạt – từ Biên Hòa Đồng Nai, . . . Các loại gốm này được đánh số từ 1 đến 50 000.\n",
        "\n",
        "Hướng dẫn viên du lịch giới thiệu với khách tham quan là có 2 nhóm nghệ nhân được giao việc tạo hình và khảm tranh. Với mỗi nhóm các bức tranh của đều được đặc trưng bởi dãy số $(c_1, c_2, . . ., c_k)$, trong đó $k$ là độ rộng của tranh, $c_i$ – màu của lô, $i = 1 ÷ k$, các bức tranh khác nhau có thể khác nhau ở trình tự xuất hiện màu của các lô, ví dụ với dãy số đặc trưng (2, 6, 2, 9), trình tự màu trong tranh có thể là (9, 2, 2, 6) hoặc (6, 9, 2, 2) nhưng không thể là (6, 9, 2, 3). Dãy đặc trưng của 2 nhóm là khác nhau, tức là không thể bằng phép hoán vị trình tự màu của lô để đưa một dãy về dãy kia. Các bức tranh được ghép với nhau rất hài hòa và khách tham quan không nhận biết được sự chuyển tiếp từ tranh này sang tranh khác. Tuy vậy nhiều khách tham quan vẫn muốn biết có bao nhiêu bức tranh đã tạo ra và trong đó số bức tranh của mỗi nhóm là bao nhiêu.\n",
        "\n",
        "Hãy xác định số lượng tranh có thể có và số lượng tranh mỗi nhóm đã làm. biết rằng nhóm nào cũng có tranh của mình.\n",
        "\n",
        "* Dữ liệu:\n",
        "\n",
        "    * Dòng đầu tiên chứa một số nguyên $n$ – số lượng lô của con đê $(2 ≤ n ≤ 105)$\n",
        "    * Dòng thứ 2 chứa $n$ số nguyên $a_1, a_2, . . ., a_n$ – màu của các lô $(1 ≤ a_i ≤ 50 000, i = 1 ÷ n)$.\n",
        "\n",
        "* Kết quả: dòng đầu tiên chứa số nguyên $m$ – số lượng phương án khác nhau chia con đường thành các bức tranh, nếu không có cách phân chia để đảm bảo phân biệt tranh của đúng 2 nhóm thì đưa ra số -1. Nếu có cách phân biệt thì ở mỗi dòng tiếp theo đưa ra 3 số nguyên $k$, $p$ và $q$ – độ rộng bức tranh, số tranh do nhóm 1 thực hiện và số tranh do nhóm 2 thực hiện, thông tin đưa ra theo thứ tự tăng dần của $k$ và ở mỗi dòng có $p ≥ q > 0$.\n",
        "\n",
        "* Ví dụ:\n",
        "\n",
        "| Input | Output |\n",
        "| --- | --- |\n",
        "| 9 | 1 |\n",
        "|1 2 3 6 4 9 3 1 2 | 3 2 1 |"
      ]
    },
    {
      "cell_type": "markdown",
      "metadata": {
        "id": "_iUbpAaM0X4w"
      },
      "source": [
        "### 2. Abstraction\n"
      ]
    },
    {
      "cell_type": "markdown",
      "metadata": {
        "id": "HnrnKGj-x3UU"
      },
      "source": [
        "Chia một dãy thành các đoạn liên tiếp có độ dài bằng nhau thuộc hai phần (2 đoạn thuộc 1 phần nếu là hoán vị của nhau), tìm số cách có thể chia, độ dài mỗi đoạn và số lượng mỗi phần."
      ]
    },
    {
      "cell_type": "markdown",
      "metadata": {
        "id": "XHF1zRq10X4w"
      },
      "source": [
        "### 3. Pattern Recognition\n"
      ]
    },
    {
      "cell_type": "markdown",
      "metadata": {
        "id": "5lJgw96U0OTv"
      },
      "source": [
        "Tìm số cách chia dãy thành các đoạn con bằng nhau."
      ]
    },
    {
      "cell_type": "markdown",
      "metadata": {
        "id": "5bdr8XyT0X4w"
      },
      "source": [
        "###  4. Algorithm Design\n"
      ]
    },
    {
      "cell_type": "markdown",
      "metadata": {
        "id": "5piFJJx32ksI"
      },
      "source": [
        "* Hướng giải quyết (sử dụng vét cạn):\n",
        "    * Tìm số cách chia dãy thành các đoạn bằng nhau, số cách này chính là số lượng ước khác 1 của **n** (vì chia 2 phần nên số đoạn ít nhất = 2)\n",
        "    * Với mỗi cách chia, ta lấy đoạn đầu tiên (ta xem như đoạn này thuộc phần 1) so sánh với các đoạn còn lại. Nếu giống nhau thì đếm số lượng phần 1. Nếu khác nhau, nếu đây là đoạn đầu tiên khác với phần 1 thì xem đoạn này là phần 2, nếu không thì so sánh với đoạn thuộc phần 2, nếu giống nhau thì đếm số lượng phần 2, nếu khác nhau thì loại cách chia này.\n"
      ]
    },
    {
      "cell_type": "markdown",
      "metadata": {
        "id": "xjJXcJQ-4O5M"
      },
      "source": [
        "* Pseudo Code:\n",
        "\n",
        "```\n",
        "numParts = [n]\n",
        "FOR i = 2 TO sqrt(n) DO\n",
        "    IF n % i == 0 THEN\n",
        "        numParts.append(i)\n",
        "        numParts.append(n // i)\n",
        "numParts.sort()\n",
        "```\n",
        "\n",
        "```\n",
        "FOR numPart IN numParts DO\n",
        "    demP = 0\n",
        "    demQ = 0\n",
        "    lenPart = n // numPart\n",
        "    team2 = []\n",
        "    FOR i = 0 TO numPart DO\n",
        "        IF sorted(a[0:lenPart]) == sorted(a[lenPart*i:lenPart*(i+1)]) THEN\n",
        "            demP++\n",
        "        ELSE\n",
        "            IF (team2 and sorted(a[lenPart*i:lenPart*(i+1)]) != sorted(team2)) THEN\n",
        "                demQ = 0\n",
        "                break\n",
        "            ELSE IF not team2:\n",
        "                team2 = a[lenPart*i:lenPart*(i+1)]\n",
        "            demQ++\n",
        "    IF demQ != 0 THEN\n",
        "        result.append([lenPart,demP,demQ])\n",
        "```"
      ]
    },
    {
      "cell_type": "markdown",
      "metadata": {
        "id": "FQahgU4f7ALn"
      },
      "source": [
        "* Độ phức tạp thuật toán: $O(\\sqrt{n} + k\\log{(k)} + kn\\log{(\\frac{n}p}))$\n",
        "    * $n$ là size của bài toán\n",
        "    * $k$ là size của numParts (số lượng ước)\n",
        "    * $p$ là size của mỗi ước\n",
        "    * $\\frac{n}p$ là size của mỗi đoạn"
      ]
    }
  ]
}