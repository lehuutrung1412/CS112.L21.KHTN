{
  "nbformat": 4,
  "nbformat_minor": 0,
  "metadata": {
    "colab": {
      "name": "CS112_Homework_Week_2_N09.ipynb",
      "provenance": []
    },
    "kernelspec": {
      "name": "python3",
      "display_name": "Python 3"
    },
    "language_info": {
      "name": "python"
    }
  },
  "cells": [
    {
      "cell_type": "markdown",
      "metadata": {
        "id": "PlVqcdU6BiUZ"
      },
      "source": [
        "# Homework Week 2"
      ]
    },
    {
      "cell_type": "markdown",
      "metadata": {
        "id": "stUoEoaABrvC"
      },
      "source": [
        "## Requirements:\n",
        "\n",
        "Find the maximum element in array size of n using divide and conquer."
      ]
    },
    {
      "cell_type": "markdown",
      "metadata": {
        "id": "DUenVklZCF5t"
      },
      "source": [
        "## 1. Implement the program"
      ]
    },
    {
      "cell_type": "code",
      "metadata": {
        "colab": {
          "base_uri": "https://localhost:8080/"
        },
        "id": "xX8m6M0U_snj",
        "outputId": "d9a91d69-3505-4ecc-fa02-56eb22f348ca"
      },
      "source": [
        "def find_max_element(arr, begin, end):\n",
        "  if end - begin == 1: return arr[begin]\n",
        "  mid = (begin + end) // 2\n",
        "  max_part1 = find_max_element(arr, begin, mid)\n",
        "  max_part2 = find_max_element(arr, mid, end)\n",
        "  return max_part1 if max_part1 > max_part2 else max_part2\n",
        "\n",
        "a = [1,5,8,4,2,7,6]\n",
        "print(find_max_element(a, 0, len(a)))\n"
      ],
      "execution_count": 1,
      "outputs": [
        {
          "output_type": "stream",
          "text": [
            "8\n"
          ],
          "name": "stdout"
        }
      ]
    },
    {
      "cell_type": "markdown",
      "metadata": {
        "id": "DGRoLsvbE2t9"
      },
      "source": [
        "## 2. Recurrence relation\n",
        "\n",
        "We have, \n",
        "* Size of problem: n\n",
        "* Number of subproblem: 2\n",
        "* Number of subproblem need to solve: 2\n",
        "\n",
        "So, $T(n) = 2T(\\frac{n}2) + O(n)$\n",
        "and $T(n) \\in O(n\\log{n})$"
      ]
    },
    {
      "cell_type": "markdown",
      "metadata": {
        "id": "S2dVUrFbIYgS"
      },
      "source": [
        "## 3. Compare with Brute force\n",
        "\n",
        "* Advantage: None\n",
        "* Disadvantage:\n",
        "  * Consuming time\n",
        "  * Take large memory usage"
      ]
    }
  ]
}