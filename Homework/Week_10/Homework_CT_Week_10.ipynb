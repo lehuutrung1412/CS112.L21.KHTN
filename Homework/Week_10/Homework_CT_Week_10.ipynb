{
  "nbformat": 4,
  "nbformat_minor": 0,
  "metadata": {
    "colab": {
      "name": "Homework_CT_Week_10.ipynb",
      "provenance": [],
      "collapsed_sections": [],
      "toc_visible": true
    },
    "kernelspec": {
      "name": "python3",
      "display_name": "Python 3"
    },
    "language_info": {
      "name": "python"
    }
  },
  "cells": [
    {
      "cell_type": "markdown",
      "metadata": {
        "id": "IbwIg3qgAwWG"
      },
      "source": [
        "# Homework Week 10"
      ]
    },
    {
      "cell_type": "markdown",
      "metadata": {
        "id": "8AvI3Ou6BHdQ"
      },
      "source": [
        "## Abstraction:\n",
        "\n",
        "Tìm số thành phần liên thông của các node có giá trị 1 trong đồ thị."
      ]
    },
    {
      "cell_type": "markdown",
      "metadata": {
        "id": "Yb7fOHq501_7"
      },
      "source": [
        "## Decomposition\n",
        "\n",
        "Bài toán đã đủ nhỏ để giải quyết."
      ]
    },
    {
      "cell_type": "markdown",
      "metadata": {
        "id": "f8iUsR14qqpg"
      },
      "source": [
        "## Pattern Recognition\n",
        "\n",
        "- Dùng DFS hoặc BFS để duyệt"
      ]
    },
    {
      "cell_type": "markdown",
      "metadata": {
        "id": "gs6zVSXeqyjK"
      },
      "source": [
        "## Algorithm Design\n",
        "\n",
        "- Duyệt từng phần tử, nếu phần tử đó có giá trị là 1 thì đây là 1 thành phần liên thông\n",
        "- Duyệt tiếp ra 8 phần tử xung quanh và đánh dấu đã duyệt"
      ]
    },
    {
      "cell_type": "code",
      "metadata": {
        "colab": {
          "base_uri": "https://localhost:8080/"
        },
        "id": "D3iy-hcKAb5k",
        "outputId": "3163c812-2fcc-4236-9ec9-d933c5f9d740"
      },
      "source": [
        "around_row = [-1, -1, -1, 0, 0, 1, 1, 1]\n",
        "around_col = [-1, 0, 1, -1, 1, -1, 0, 1]\n",
        "\n",
        "def DFS(matrix, row, col):\n",
        "    if row < 0 or row >= num_row or col < 0 or col >= num_col or matrix[row][col] != 1:\n",
        "        return\n",
        "    matrix[row][col] = 0 # Xung quanh toàn là nước êiiiii :))\n",
        "    for i in range(len(around_row)):\n",
        "        DFS(matrix, row + around_row[i], col + around_col[i])\n",
        " \n",
        "def count_land(matrix):\n",
        "    count = 0\n",
        "    for row in range(num_row):\n",
        "        for col in range(num_col):\n",
        "            if matrix[row][col] == 1:\n",
        "                count += 1\n",
        "                DFS(matrix, row, col)\n",
        "    return count\n",
        "\n",
        "num_row, num_col = map(int, input().split())\n",
        "matrix = []\n",
        "for i in range(num_row):\n",
        "    temp = list(map(int, input().split()))\n",
        "    matrix.append(temp)\n",
        "print(count_land(matrix))"
      ],
      "execution_count": 7,
      "outputs": [
        {
          "output_type": "stream",
          "text": [
            "5 5\n",
            "1 1 0 0 0\n",
            "0 1 0 0 1\n",
            "1 0 0 1 1\n",
            "0 0 0 0 0\n",
            "1 0 1 0 1\n",
            "5\n"
          ],
          "name": "stdout"
        }
      ]
    }
  ]
}