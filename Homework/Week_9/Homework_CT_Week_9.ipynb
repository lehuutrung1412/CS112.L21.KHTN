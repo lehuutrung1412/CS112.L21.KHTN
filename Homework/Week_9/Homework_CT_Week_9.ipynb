{
  "nbformat": 4,
  "nbformat_minor": 0,
  "metadata": {
    "colab": {
      "name": "Homework_CT_Week_9.ipynb",
      "provenance": [],
      "collapsed_sections": []
    },
    "kernelspec": {
      "name": "python3",
      "display_name": "Python 3"
    },
    "language_info": {
      "name": "python"
    }
  },
  "cells": [
    {
      "cell_type": "markdown",
      "metadata": {
        "id": "N1mWHNVXXNmI"
      },
      "source": [
        "# Bài tập về nhà: Luyện tập phân tích thiết kế thuật toán"
      ]
    },
    {
      "cell_type": "markdown",
      "metadata": {
        "id": "FDqV5h_QXafg"
      },
      "source": [
        "## Đề bài:\n",
        "\n",
        "Cho một mảng sticks gồm các thanh độ dài, sử dụng 3 trong số chúng để tạo một tam giác với chu vi lớn nhất có thể. Nếu có nhiều tam giác có cùng chu vi lớn nhất:\n",
        "- Chọn tam giác có cạnh dài nhất\n",
        "- Nếu nhiều hơn 1 tam giác có cùng cạnh dài nhất, thì hãy chọn tam giác có cạnh tối thiểu dài nhất\n",
        "\n",
        "In ra độ dài các cạnh của tam giác theo thứ tự không giảm. Nếu không tồn tại tam giác in ra “-1”.\n",
        "\n",
        "Dữ liệu:\n",
        "- Dòng thứ nhất nhập 1 số nguyên N, kích thước mảng sticks (3 <= N <= 50).\n",
        "- Dòng thứ hai nhập N số nguyên phân tách bằng dấu cách, là các thanh độ dài ($1 <=$ sticks[i] $<= 10^9$).\n",
        "\n",
        "Ví dụ:\n",
        "\n",
        "|Input| Output|\n",
        "|---|---|\n",
        "|6| 1 1 1|\n",
        "|1 1 1 2 3 5||"
      ]
    },
    {
      "cell_type": "markdown",
      "metadata": {
        "id": "4ByLivnJYRBc"
      },
      "source": [
        "## Abstraction\n",
        "\n",
        "Tìm 3 phần tử có tổng lớn nhất trong dãy thỏa bất đẳng thức 3 cạnh của tam giác. Nếu có nhiều trường hợp có tổng lớn nhất bằng nhau thì chọn trường hợp có phần tử lớn nhất lớn nhất, nếu các phần tử lớn nhất bằng nhau thì chọn phần tử nhỏ nhất lớn nhất."
      ]
    },
    {
      "cell_type": "markdown",
      "metadata": {
        "id": "aw3xsVC8ZlMM"
      },
      "source": [
        "## Decomposition\n",
        "\n",
        "Bài toán được giải khi giải quyết được 2 vấn đề:\n",
        "\n",
        "- Kiểm tra thỏa điều kiện bất đẳng thức tam giác: tổng 2 cạnh luôn lớn hơn cạnh còn lại\n",
        "\n",
        "- Tìm ra 3 cạnh có tổng lớn nhất"
      ]
    },
    {
      "cell_type": "markdown",
      "metadata": {
        "id": "5eVx1ywfadmR"
      },
      "source": [
        "## Pattern Recognition\n",
        "\n",
        "Dựa vào những phân tích ở trên, mình nhận thấy đây là bài toán có thể áp dụng phương pháp thiết kế thuật toán tham lam (Greedy)."
      ]
    },
    {
      "cell_type": "markdown",
      "metadata": {
        "id": "heVRoVA0a5id"
      },
      "source": [
        "## Algorithm Design"
      ]
    },
    {
      "cell_type": "code",
      "metadata": {
        "colab": {
          "base_uri": "https://localhost:8080/"
        },
        "id": "MZCtHwQLXG3W",
        "outputId": "0b0ab566-8bdc-46ba-c7b7-7318ea77f6c6"
      },
      "source": [
        "n = int(input())\n",
        "sticks = list(map(int, input().split()))\n",
        "sticks.sort(reverse=True)\n",
        "i = 0\n",
        "while (i < n-2 and sticks[i] >= sticks[i+1] + sticks[i+2]):\n",
        "    i += 1\n",
        "if i < n-2:\n",
        "    print(*sticks[i:i+3][::-1])\n",
        "else:\n",
        "    print(-1)"
      ],
      "execution_count": 1,
      "outputs": [
        {
          "output_type": "stream",
          "text": [
            "6\n",
            "1 1 1 2 3 5\n",
            "1 1 1\n"
          ],
          "name": "stdout"
        }
      ]
    },
    {
      "cell_type": "markdown",
      "metadata": {
        "id": "DwGYNj3njNHE"
      },
      "source": [
        "- Độ phức tạp thuật toán: $O(n\\log{n})$"
      ]
    }
  ]
}